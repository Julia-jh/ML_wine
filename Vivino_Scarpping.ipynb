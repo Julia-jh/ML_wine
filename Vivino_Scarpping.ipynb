{
 "cells": [
  {
   "cell_type": "code",
   "execution_count": 13,
   "metadata": {},
   "outputs": [],
   "source": [
    "import requests\n",
    "\n",
    "from selenium import webdriver\n",
    "from bs4 import BeautifulSoup\n",
    "import pandas as pd\n",
    "import time"
   ]
  },
  {
   "cell_type": "code",
   "execution_count": 116,
   "metadata": {},
   "outputs": [],
   "source": [
    "# Vivino 탐색을 위한 driver 생성\n",
    "driver = webdriver.Chrome()\n",
    "url = 'https://www.vivino.com/explore?e=eJzLLbI1VMvNzLM1UMtNrLA1NQABteRKW-8gtWQgEa5WAFSQnmZblliUmVqSmKOWX5Rim5JanKyWn1RpW5RYkpmXXhyfWJZalJieqlZeEh1rawgAgG8ccg%3D%3D'\n",
    "driver.get(url)\n",
    "time.sleep(3)"
   ]
  },
  {
   "cell_type": "code",
   "execution_count": 15,
   "metadata": {},
   "outputs": [],
   "source": [
    "# 페이지 끝까지 스크롤하여 모든 데이터 로드\n",
    "while True:\n",
    "    # 현재 높이 저장\n",
    "    last_height = driver.execute_script(\"return document.body.scrollHeight\")\n",
    "    \n",
    "    # 페이지 끝까지 스크롤\n",
    "    driver.execute_script(\"window.scrollTo(0, document.body.scrollHeight);\")\n",
    "    \n",
    "    # 페이지 로드 대기\n",
    "    time.sleep(1)\n",
    "    \n",
    "    # 페이지 살짝 위로 스크롤하여 데이터 로드될 수 있도록 조정함\n",
    "    driver.execute_script(\"window.scrollBy(0, -100);\")\n",
    "    time.sleep(3)\n",
    "    \n",
    "    #새로운 높이 계산\n",
    "    new_height = driver.execute_script(\"return document.body.scrollHeight\")\n",
    "\n",
    "    if new_height == last_height:\n",
    "        break\n",
    "\n",
    "    last_height = new_height"
   ]
  },
  {
   "cell_type": "code",
   "execution_count": 16,
   "metadata": {},
   "outputs": [],
   "source": [
    "# 반복문 종료 후 스크롤 맨 위로 올리기\n",
    "driver.execute_script(\"window.scrollTo(0,0);\")"
   ]
  },
  {
   "cell_type": "code",
   "execution_count": 17,
   "metadata": {},
   "outputs": [
    {
     "data": {
      "text/plain": [
       "1971"
      ]
     },
     "execution_count": 17,
     "metadata": {},
     "output_type": "execute_result"
    }
   ],
   "source": [
    "# 페이지 소스 가져오기\n",
    "html = driver.page_source\n",
    "soup = BeautifulSoup(html, 'html.parser')\n",
    "\n",
    "# 와인 카드 데이터 가져오기 및 개수 확인\n",
    "wines = soup.find_all('div', class_='wineCard__wineCard--2dj2T')\n",
    "len(wines)"
   ]
  },
  {
   "cell_type": "code",
   "execution_count": 118,
   "metadata": {},
   "outputs": [
    {
     "name": "stderr",
     "output_type": "stream",
     "text": [
      "/var/folders/10/g_4wtq6d0k5gc_g_zkc4v8c00000gn/T/ipykernel_86359/4186595474.py:7: TqdmDeprecationWarning: This function will be removed in tqdm==5.0.0\n",
      "Please use `tqdm.notebook.tqdm` instead of `tqdm.tqdm_notebook`\n",
      "  for wine in tqdm_notebook(wines[:500]):\n"
     ]
    },
    {
     "data": {
      "application/vnd.jupyter.widget-view+json": {
       "model_id": "2674b7da356c4a08b7dde4201f2a54b5",
       "version_major": 2,
       "version_minor": 0
      },
      "text/plain": [
       "  0%|          | 0/500 [00:00<?, ?it/s]"
      ]
     },
     "metadata": {},
     "output_type": "display_data"
    }
   ],
   "source": [
    "# wine 데이터 추출하기\n",
    "from tqdm import tqdm_notebook\n",
    "\n",
    "data1 = []\n",
    "base_url = 'https://www.vivino.com'\n",
    "\n",
    "for wine in tqdm_notebook(wines[:500]):\n",
    "    \n",
    "    country = wine.find('div', class_=\"wineInfoLocation__regionAndCountry--1nEJz\").get_text().split(\",\")[-1].strip()\n",
    "    region = wine.find('div', class_=\"wineInfoLocation__regionAndCountry--1nEJz\").get_text().split(\",\")[0].strip()\n",
    "    rating = wine.find('div', class_=\"vivinoRating_averageValue__uDdPM\").get_text().strip()\n",
    "    nratings = wine.find('div', class_=\"vivinoRating_caption__xL84P\").get_text().split()[0].strip() # rating 수 \n",
    "    label = wine.find('div', class_=\"wineInfoVintage__vintage--VvWlU wineInfoVintage__truncate--3QAtw\").get_text()\n",
    "    winery = wine.find('div', class_ = \"wineInfoVintage__truncate--3QAtw\").get_text()\n",
    "    price = wine.find('div', class_=\"addToCart__subText--1pvFt addToCart__ppcPrice--ydrd5\").get_text().split()[-1].replace('₩', '')\n",
    "\n",
    "    # Crawling wine varieties\n",
    "    wine_link = wine.find('a',class_=\"anchor_anchor__m8Qi- wineCard__cardLink--3F_uB\")['href']\n",
    "    link = base_url + wine_link\n",
    "\n",
    "    driver.get(link)\n",
    "    time.sleep(2)\n",
    "    driver.execute_script('window.scrollTo(0, document.body.scrollHeight);') # 맨 밑으로 스크롤하여 모든 페이지소스 로딩\n",
    "    time.sleep(2)\n",
    "    \n",
    "    wine_html = driver.page_source\n",
    "    wine_soup = BeautifulSoup(wine_html, 'html.parser')\n",
    "\n",
    "    grape_links= wine_soup.find_all('a', class_='anchor_anchor__m8Qi-', href = True)\n",
    "    grapes = [grape.text for grape in grape_links if '/grapes/' in grape['href']]\n",
    "    \n",
    "    # data에 값 저장하기\n",
    "    data1.append({\n",
    "        'Country': country,\n",
    "        'Region': region,\n",
    "        'Rating': rating,\n",
    "        'Nratings': nratings,\n",
    "        'Label': label,\n",
    "        'Winery':winery,\n",
    "        'Price': price,\n",
    "        'Wine_Variety': grapes\n",
    "    })\n",
    "\n",
    "df1 = pd.DataFrame(data1)\n",
    "data1.to_csv('./wine_df1.csv', index = False)\n"
   ]
  },
  {
   "cell_type": "code",
   "execution_count": 119,
   "metadata": {},
   "outputs": [
    {
     "name": "stderr",
     "output_type": "stream",
     "text": [
      "/var/folders/10/g_4wtq6d0k5gc_g_zkc4v8c00000gn/T/ipykernel_86359/2806064068.py:3: TqdmDeprecationWarning: This function will be removed in tqdm==5.0.0\n",
      "Please use `tqdm.notebook.tqdm` instead of `tqdm.tqdm_notebook`\n",
      "  for wine in tqdm_notebook(wines[500:1000]):\n"
     ]
    },
    {
     "data": {
      "application/vnd.jupyter.widget-view+json": {
       "model_id": "2d1d16ee5ad945db8e8c5a0fa01b9a6b",
       "version_major": 2,
       "version_minor": 0
      },
      "text/plain": [
       "  0%|          | 0/500 [00:00<?, ?it/s]"
      ]
     },
     "metadata": {},
     "output_type": "display_data"
    }
   ],
   "source": [
    "# wine 데이터 추출하기 (#500~)\n",
    "\n",
    "data2 = []\n",
    "\n",
    "for wine in tqdm_notebook(wines[500:1000]):\n",
    "    \n",
    "    country = wine.find('div', class_=\"wineInfoLocation__regionAndCountry--1nEJz\").get_text().split(\",\")[-1].strip()\n",
    "    region = wine.find('div', class_=\"wineInfoLocation__regionAndCountry--1nEJz\").get_text().split(\",\")[0].strip()\n",
    "    rating = wine.find('div', class_=\"vivinoRating_averageValue__uDdPM\").get_text().strip()\n",
    "    nratings = wine.find('div', class_=\"vivinoRating_caption__xL84P\").get_text().split()[0].strip() # rating 수 \n",
    "    label = wine.find('div', class_=\"wineInfoVintage__vintage--VvWlU wineInfoVintage__truncate--3QAtw\").get_text()\n",
    "    winery = wine.find('div', class_ = \"wineInfoVintage__truncate--3QAtw\").get_text()\n",
    "    price = wine.find('div', class_=\"addToCart__subText--1pvFt addToCart__ppcPrice--ydrd5\").get_text().split()[-1].replace('₩', '')\n",
    "\n",
    "    # Crawling wine varieties\n",
    "    wine_link = wine.find('a',class_=\"anchor_anchor__m8Qi- wineCard__cardLink--3F_uB\")['href']\n",
    "    link = base_url + wine_link\n",
    "\n",
    "    driver.get(link)\n",
    "    time.sleep(2)\n",
    "    driver.execute_script('window.scrollTo(0, document.body.scrollHeight);') # 맨 밑으로 스크롤하여 모든 페이지소스 로딩\n",
    "    time.sleep(2)\n",
    "    \n",
    "    wine_html = driver.page_source\n",
    "    wine_soup = BeautifulSoup(wine_html, 'html.parser')\n",
    "\n",
    "    grape_links= wine_soup.find_all('a', class_='anchor_anchor__m8Qi-', href = True)\n",
    "    grapes = [grape.text for grape in grape_links if '/grapes/' in grape['href']]\n",
    "    \n",
    "    # data에 값 저장하기\n",
    "    data2.append({\n",
    "        'Country': country,\n",
    "        'Region': region,\n",
    "        'Rating': rating,\n",
    "        'Nratings': nratings,\n",
    "        'Label': label,\n",
    "        'Winery':winery,\n",
    "        'Price': price,\n",
    "        'Wine_Variety': grapes\n",
    "    })\n",
    "\n",
    "df2 = pd.DataFrame(data2)\n",
    "data2.to_csv('./wine_df2.csv', index = False)\n"
   ]
  },
  {
   "cell_type": "code",
   "execution_count": null,
   "metadata": {},
   "outputs": [],
   "source": [
    "# wine 데이터 추출하기 (#~)\n",
    "\n",
    "data3 = []\n",
    "\n",
    "for wine in tqdm_notebook(wines[1000:1500]):\n",
    "    \n",
    "    country = wine.find('div', class_=\"wineInfoLocation__regionAndCountry--1nEJz\").get_text().split(\",\")[-1].strip()\n",
    "    region = wine.find('div', class_=\"wineInfoLocation__regionAndCountry--1nEJz\").get_text().split(\",\")[0].strip()\n",
    "    rating = wine.find('div', class_=\"vivinoRating_averageValue__uDdPM\").get_text().strip()\n",
    "    nratings = wine.find('div', class_=\"vivinoRating_caption__xL84P\").get_text().split()[0].strip() # rating 수 \n",
    "    label = wine.find('div', class_=\"wineInfoVintage__vintage--VvWlU wineInfoVintage__truncate--3QAtw\").get_text()\n",
    "    winery = wine.find('div', class_ = \"wineInfoVintage__truncate--3QAtw\").get_text()\n",
    "    price = wine.find('div', class_=\"addToCart__subText--1pvFt addToCart__ppcPrice--ydrd5\").get_text().split()[-1].replace('₩', '')\n",
    "\n",
    "    # Crawling wine varieties\n",
    "    wine_link = wine.find('a',class_=\"anchor_anchor__m8Qi- wineCard__cardLink--3F_uB\")['href']\n",
    "    link = base_url + wine_link\n",
    "\n",
    "    driver.get(link)\n",
    "    time.sleep(2)\n",
    "    driver.execute_script('window.scrollTo(0, document.body.scrollHeight);') # 맨 밑으로 스크롤하여 모든 페이지소스 로딩\n",
    "    time.sleep(2)\n",
    "    \n",
    "    wine_html = driver.page_source\n",
    "    wine_soup = BeautifulSoup(wine_html, 'html.parser')\n",
    "\n",
    "    grape_links= wine_soup.find_all('a', class_='anchor_anchor__m8Qi-', href = True)\n",
    "    grapes = [grape.text for grape in grape_links if '/grapes/' in grape['href']]\n",
    "    \n",
    "    # data에 값 저장하기\n",
    "    data.append({\n",
    "        'Country': country,\n",
    "        'Region': region,\n",
    "        'Rating': rating,\n",
    "        'Nratings': nratings,\n",
    "        'Label': label,\n",
    "        'Winery':winery,\n",
    "        'Price': price,\n",
    "        'Wine_Variety': grapes\n",
    "    })\n",
    "\n",
    "df3 = pd.DataFrame(data3)\n",
    "data3.to_csv('./wine_df3.csv', index = False)"
   ]
  },
  {
   "cell_type": "code",
   "execution_count": null,
   "metadata": {},
   "outputs": [],
   "source": [
    "data4 = []\n",
    "\n",
    "for wine in tqdm_notebook(wines[1500:]):\n",
    "    \n",
    "    country = wine.find('div', class_=\"wineInfoLocation__regionAndCountry--1nEJz\").get_text().split(\",\")[-1].strip()\n",
    "    region = wine.find('div', class_=\"wineInfoLocation__regionAndCountry--1nEJz\").get_text().split(\",\")[0].strip()\n",
    "    rating = wine.find('div', class_=\"vivinoRating_averageValue__uDdPM\").get_text().strip()\n",
    "    nratings = wine.find('div', class_=\"vivinoRating_caption__xL84P\").get_text().split()[0].strip() # rating 수 \n",
    "    label = wine.find('div', class_=\"wineInfoVintage__vintage--VvWlU wineInfoVintage__truncate--3QAtw\").get_text()\n",
    "    winery = wine.find('div', class_ = \"wineInfoVintage__truncate--3QAtw\").get_text()\n",
    "    price = wine.find('div', class_=\"addToCart__subText--1pvFt addToCart__ppcPrice--ydrd5\").get_text().split()[-1].replace('₩', '')\n",
    "\n",
    "    # Crawling wine varieties\n",
    "    wine_link = wine.find('a',class_=\"anchor_anchor__m8Qi- wineCard__cardLink--3F_uB\")['href']\n",
    "    link = base_url + wine_link\n",
    "\n",
    "    driver.get(link)\n",
    "    time.sleep(2)\n",
    "    driver.execute_script('window.scrollTo(0, document.body.scrollHeight);') # 맨 밑으로 스크롤하여 모든 페이지소스 로딩\n",
    "    time.sleep(2)\n",
    "    \n",
    "    wine_html = driver.page_source\n",
    "    wine_soup = BeautifulSoup(wine_html, 'html.parser')\n",
    "\n",
    "    grape_links= wine_soup.find_all('a', class_='anchor_anchor__m8Qi-', href = True)\n",
    "    grapes = [grape.text for grape in grape_links if '/grapes/' in grape['href']]\n",
    "    \n",
    "    # data에 값 저장하기\n",
    "    data.append({\n",
    "        'Country': country,\n",
    "        'Region': region,\n",
    "        'Rating': rating,\n",
    "        'Nratings': nratings,\n",
    "        'Label': label,\n",
    "        'Winery':winery,\n",
    "        'Price': price,\n",
    "        'Wine_Variety': grapes\n",
    "    })\n",
    "\n",
    "df4 = pd.DataFrame(data4)\n",
    "data4.to_csv('./wine_df4.csv', index = False)"
   ]
  },
  {
   "cell_type": "code",
   "execution_count": null,
   "metadata": {},
   "outputs": [],
   "source": [
    "driver.quit()"
   ]
  }
 ],
 "metadata": {
  "kernelspec": {
   "display_name": "ds_study",
   "language": "python",
   "name": "python3"
  },
  "language_info": {
   "codemirror_mode": {
    "name": "ipython",
    "version": 3
   },
   "file_extension": ".py",
   "mimetype": "text/x-python",
   "name": "python",
   "nbconvert_exporter": "python",
   "pygments_lexer": "ipython3",
   "version": "3.8.18"
  }
 },
 "nbformat": 4,
 "nbformat_minor": 2
}
