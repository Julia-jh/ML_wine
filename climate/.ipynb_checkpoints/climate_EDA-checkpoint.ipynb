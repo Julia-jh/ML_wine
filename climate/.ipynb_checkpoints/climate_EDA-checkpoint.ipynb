{
 "cells": [
  {
   "cell_type": "markdown",
   "id": "67678650",
   "metadata": {},
   "source": [
    "# NCEI\n",
    "<br>\n",
    "\n",
    "- 월평균 활용\n",
    "- https://apihub.kma.go.kr/\n",
    "    - 세계기상 > NCEI 관측.통계 > 3. 전세계 지상관측(월통계) : 1763년~2022년\n",
    "    - ※ NCEI(National Centers for Environmental Information, 국립환경정보센터)는 미국 NOAA의 소속된 기관으로 전세계 기상기후데이터를 수집·제공합니다.\n",
    "    - ※ 모든 자료가 2022년 12월 까지 존재합니다.\n",
    "## 참고 자료\n",
    "- document 파일\n",
    "    - 자료 소개서\n",
    "        - GSOM_readme.txt\n",
    "    - 자료 설명서\n",
    "        - GSOM_documentation.pdf\n",
    "    - 연/월 통합 상세 설명서\n",
    "        - GSOM_GSOY_Description_Document_v1.0.2_20200219.pdf\n",
    "- 지점정보\n",
    "    - 링크 내용은 동일함\n",
    "    - https://www.ncei.noaa.gov/pub/data/noaa/isd-history.txt(내용확인)\n",
    "    - https://www.ncei.noaa.gov/pub/data/noaa/isd-history.csv(파일다운로드)\n",
    "- 국가 코드\n",
    "    - Country list\n",
    "        - 국가명과 국가 2글자 표현 짝 정리된 것\n",
    "        - 후에 요청인자 중 stn 구성요소인 지점코드값의 국가 부분을 해석하는데에 사용\n",
    "        - 293개국 존재\n",
    "- 파일 리스트\n",
    "    - File list\n",
    "        - 파일목록\n",
    "        - 파일명과 파일 크기가 나열됨\n",
    "        - 후술될 요청인자 중 stn의 구성요소인 지점코드 값으로 활용할 수 있음\n",
    "            - 국가 2글자, 망구분 1글자, 지점번호 9글자를 가져올 소스\n",
    "        - 122236개 있음\n",
    "- 실제 파일 리스트\n",
    "    - data_climate/gsom-latest 내부에 존재하는 파일들\n",
    "    - 122041개 있음"
   ]
  },
  {
   "cell_type": "markdown",
   "id": "13e8374b",
   "metadata": {},
   "source": [
    "## 코드 목적\n",
    "- 사용 데이터: NCEI의 GSOM(전세계 월별 요약) 기후 데이터\n",
    "- 데이터 위치: jihye 브랜치에 data_climate 폴더 내 gsom-latest csv 파일들\n",
    "- 필요한 일 (우선순위 순서)\n",
    "    1. Wine Data / OIV 폴더OIV_wine_producing_country_and_region.xlsx에 올라와있는 20개국(country_20)을 기준으로 데이터 정합성이 가장 좋은 해(year_1)를 고르기\n",
    "        - 결과물\n",
    "            1. year_1을 기준으로 country_20 데이터 누적한 파일\n",
    "            2. year_1을 기준으로 나머지 국가 데이터 누적한 파일\n",
    "    2. Wine Data / OIV 폴더OIV_wine_producing_country_and_region.xlsx에 올라와있는 20개국(country_20)을 기준으로 데이터 정합성이 가장 좋은 해 연속 5년(year_5)을 고르기\n",
    "        - 결과물\n",
    "            3. year_5을 기준으로 country_20 데이터 누적한 파일\n",
    "            4. year_5을 기준으로 나머지 국가 데이터 누적한 파일\n",
    "    3. 기후 데이터 EDA 아이디어 정리\n",
    "    4. Wine Data / OIV 폴더OIV_wine_producing_country_and_region.xlsx에 올라와있는 20개국(country_20)을 기준으로 데이터 정합성이 가장 좋은 해 연속 10년(year_10)을 고르기\n",
    "        - 결과물\n",
    "            5. year_10을 기준으로 country_20 데이터 누적한 파일\n",
    "            6. year_10을 기준으로 나머지 국가 데이터 누적한 파일\n",
    "- 정합성 체크리스트\n",
    "    - 12개월이 온전히 들어있는지\n",
    "    - 결측치가 없는지\n",
    "    - 가장 최신인지\n",
    "    - 포도 재배 결과가 좋은 21, 20년도일 경우가 선호됨\n",
    "- 20개국을 정합성 체크하는 기준으로 제한하는 이유\n",
    "    - 모델 학습에 활용되므로 중요순위가 높다는 자체적 가중치를 둠\n",
    "    - 역으로 기후 데이터에 정합성이 떨어지는 국가라면, 까다로운 품종 포도를 재배하는데에 적합한 정도의 기술력, 관심도가 떨어진다고 볼 수도 있음\n",
    "    - 두 명이 주말 안에 못 함\n",
    "    - 다만 20개국 정합성이 비슷한 두 해가 있고, 나머지 국가들의 데이터 정합성이 크게 차이난다면 차후 논의해볼 문제\n",
    "- 활용 코드\n",
    "    - climate_EDA.ipynb\n",
    "        - open_csv('국가명') 함수를 이용하면 원하는 국가가 있는 모든 지역을 확인할 수 있음\n",
    "        - open_csv_year('국가리스트', 연도) 함수를 이용하면 위 open_csv('국가명')을 활용해 불러온 국가가 있는 모든 지역 csv에서 특정 연도를 추출, 누적한 df를 얻을 수 있음"
   ]
  },
  {
   "cell_type": "markdown",
   "id": "d87a1fae",
   "metadata": {},
   "source": [
    "## 활용 library"
   ]
  },
  {
   "cell_type": "code",
   "execution_count": 2,
   "id": "36271e56",
   "metadata": {
    "ExecuteTime": {
     "end_time": "2024-07-12T09:08:18.509448Z",
     "start_time": "2024-07-12T09:08:17.227932Z"
    }
   },
   "outputs": [],
   "source": [
    "import pandas as pd\n",
    "import numpy as np\n",
    "import os\n",
    "import matplotlib.pyplot as plt\n",
    "import seaborn as sns"
   ]
  },
  {
   "cell_type": "code",
   "execution_count": 3,
   "id": "008ff761",
   "metadata": {
    "ExecuteTime": {
     "end_time": "2024-07-12T09:08:18.642899Z",
     "start_time": "2024-07-12T09:08:18.510191Z"
    },
    "scrolled": true
   },
   "outputs": [
    {
     "data": {
      "text/html": [
       "<div>\n",
       "<style scoped>\n",
       "    .dataframe tbody tr th:only-of-type {\n",
       "        vertical-align: middle;\n",
       "    }\n",
       "\n",
       "    .dataframe tbody tr th {\n",
       "        vertical-align: top;\n",
       "    }\n",
       "\n",
       "    .dataframe thead th {\n",
       "        text-align: right;\n",
       "    }\n",
       "</style>\n",
       "<table border=\"1\" class=\"dataframe\">\n",
       "  <thead>\n",
       "    <tr style=\"text-align: right;\">\n",
       "      <th></th>\n",
       "      <th>RealFileNM</th>\n",
       "      <th>ID</th>\n",
       "      <th>COUNTRY NAME</th>\n",
       "      <th>Name</th>\n",
       "    </tr>\n",
       "  </thead>\n",
       "  <tbody>\n",
       "    <tr>\n",
       "      <th>0</th>\n",
       "      <td>ACW00011604.csv</td>\n",
       "      <td>AC</td>\n",
       "      <td>ANTIGUA AND BARBUDA</td>\n",
       "      <td>ACW00011604</td>\n",
       "    </tr>\n",
       "    <tr>\n",
       "      <th>1</th>\n",
       "      <td>ACW00011647.csv</td>\n",
       "      <td>AC</td>\n",
       "      <td>ANTIGUA AND BARBUDA</td>\n",
       "      <td>ACW00011647</td>\n",
       "    </tr>\n",
       "    <tr>\n",
       "      <th>2</th>\n",
       "      <td>AE000041196.csv</td>\n",
       "      <td>AE</td>\n",
       "      <td>NaN</td>\n",
       "      <td>AE000041196</td>\n",
       "    </tr>\n",
       "    <tr>\n",
       "      <th>3</th>\n",
       "      <td>AEM00041194.csv</td>\n",
       "      <td>AE</td>\n",
       "      <td>NaN</td>\n",
       "      <td>AEM00041194</td>\n",
       "    </tr>\n",
       "    <tr>\n",
       "      <th>4</th>\n",
       "      <td>AEM00041217.csv</td>\n",
       "      <td>AE</td>\n",
       "      <td>NaN</td>\n",
       "      <td>AEM00041217</td>\n",
       "    </tr>\n",
       "    <tr>\n",
       "      <th>...</th>\n",
       "      <td>...</td>\n",
       "      <td>...</td>\n",
       "      <td>...</td>\n",
       "      <td>...</td>\n",
       "    </tr>\n",
       "    <tr>\n",
       "      <th>122036</th>\n",
       "      <td>ZI000067969.csv</td>\n",
       "      <td>ZI</td>\n",
       "      <td>ZIMBABWE</td>\n",
       "      <td>ZI000067969</td>\n",
       "    </tr>\n",
       "    <tr>\n",
       "      <th>122037</th>\n",
       "      <td>ZI000067975.csv</td>\n",
       "      <td>ZI</td>\n",
       "      <td>ZIMBABWE</td>\n",
       "      <td>ZI000067975</td>\n",
       "    </tr>\n",
       "    <tr>\n",
       "      <th>122038</th>\n",
       "      <td>ZI000067977.csv</td>\n",
       "      <td>ZI</td>\n",
       "      <td>ZIMBABWE</td>\n",
       "      <td>ZI000067977</td>\n",
       "    </tr>\n",
       "    <tr>\n",
       "      <th>122039</th>\n",
       "      <td>ZI000067983.csv</td>\n",
       "      <td>ZI</td>\n",
       "      <td>ZIMBABWE</td>\n",
       "      <td>ZI000067983</td>\n",
       "    </tr>\n",
       "    <tr>\n",
       "      <th>122040</th>\n",
       "      <td>ZI000067991.csv</td>\n",
       "      <td>NaN</td>\n",
       "      <td>NaN</td>\n",
       "      <td>ZI000067991</td>\n",
       "    </tr>\n",
       "  </tbody>\n",
       "</table>\n",
       "<p>122041 rows × 4 columns</p>\n",
       "</div>"
      ],
      "text/plain": [
       "             RealFileNM   ID           COUNTRY NAME         Name\n",
       "0       ACW00011604.csv   AC    ANTIGUA AND BARBUDA  ACW00011604\n",
       "1       ACW00011647.csv   AC    ANTIGUA AND BARBUDA  ACW00011647\n",
       "2       AE000041196.csv   AE                    NaN  AE000041196\n",
       "3       AEM00041194.csv   AE                    NaN  AEM00041194\n",
       "4       AEM00041217.csv   AE                    NaN  AEM00041217\n",
       "...                 ...  ...                    ...          ...\n",
       "122036  ZI000067969.csv   ZI               ZIMBABWE  ZI000067969\n",
       "122037  ZI000067975.csv   ZI               ZIMBABWE  ZI000067975\n",
       "122038  ZI000067977.csv   ZI               ZIMBABWE  ZI000067977\n",
       "122039  ZI000067983.csv   ZI               ZIMBABWE  ZI000067983\n",
       "122040  ZI000067991.csv  NaN                    NaN  ZI000067991\n",
       "\n",
       "[122041 rows x 4 columns]"
      ]
     },
     "execution_count": 3,
     "metadata": {},
     "output_type": "execute_result"
    }
   ],
   "source": [
    "dfFiletoCountry = pd.read_csv('data_climate/FiletoCountry.csv')\n",
    "dfFiletoCountry"
   ]
  },
  {
   "cell_type": "markdown",
   "id": "37c9f255",
   "metadata": {},
   "source": [
    "## 파일 목록 중에 활용할 csv를 불러오는 함수만들기\n",
    "- 필요한 것\n",
    "    - 적용 국가\n",
    "        - Wine Data / OIV 폴더OIV_wine_producing_country_and_region.xlsx 파일 참고\n",
    "    - 비적용 국가\n",
    "        - 위 국가 뺀 나머지 국가들 정리"
   ]
  },
  {
   "cell_type": "markdown",
   "id": "6851343c",
   "metadata": {},
   "source": [
    "### 국가명 리스트 정리\n",
    "- 적용국가\n",
    "    - country_32\n",
    "- 비적용 국가\n",
    "    - countryNameList에서 country_32를 뺀 것"
   ]
  },
  {
   "cell_type": "code",
   "execution_count": 4,
   "id": "93a4b546",
   "metadata": {
    "ExecuteTime": {
     "end_time": "2024-07-12T09:08:19.319932Z",
     "start_time": "2024-07-12T09:08:18.645199Z"
    }
   },
   "outputs": [
    {
     "name": "stderr",
     "output_type": "stream",
     "text": [
      "C:\\ProgramData\\anaconda3\\envs\\ds_study\\lib\\site-packages\\openpyxl\\styles\\stylesheet.py:237: UserWarning: Workbook contains no default style, apply openpyxl's default\n",
      "  warn(\"Workbook contains no default style, apply openpyxl's default\")\n"
     ]
    },
    {
     "name": "stdout",
     "output_type": "stream",
     "text": [
      "18\n",
      "['Argentina', 'Australia', 'Austria', 'Belgium', 'Bulgaria', 'Brazil', 'Czech Republic', 'Switzerland', 'Chile', 'Croatia', 'Cyprus', 'Germany', 'Spain', 'France', 'Georgia', 'Greece', 'Hungary', 'Italy', 'Japan', 'Luxemburg', 'Morocco', 'Moldova', 'New Zealand', 'Peru', 'Portugal', 'Romania', 'Serbia', 'Slovakia', 'Slovenia', 'Republic of Türkiye', 'Uruguay', 'South Africa']\n",
      "32\n",
      "['ARGENTINA', 'AUSTRALIA', 'AUSTRIA', 'BELGIUM', 'BULGARIA', 'BRAZIL', 'CZECH REPUBLIC', 'SWITZERLAND', 'CHILE', 'CROATIA', 'CYPRUS', 'GERMANY', 'SPAIN', 'FRANCE', 'GEORGIA', 'GREECE', 'HUNGARY', 'ITALY', 'JAPAN', 'LUXEMBURG', 'MOROCCO', 'MOLDOVA', 'NEW ZEALAND', 'PERU', 'PORTUGAL', 'ROMANIA', 'SERBIA', 'SLOVAKIA', 'SLOVENIA', 'REPUBLIC OF TÜRKIYE', 'URUGUAY', 'SOUTH AFRICA']\n"
     ]
    }
   ],
   "source": [
    "# 데이터 정합성 기준 국가\n",
    "wineCountry = pd.read_excel('OIV_wine_producing_country_and_region.xlsx', engine = 'openpyxl')\n",
    "# Null값은 제외해야 함\n",
    "country_32 = list(wineCountry['Country'].dropna().unique()[:-1])\n",
    "print(country_32.index('\\xa0Japan'))\n",
    "country_32[18] = 'Japan'\n",
    "\n",
    "print(country_32)\n",
    "print(len(country_32))\n",
    "\n",
    "country_32 = [country.strip().upper() for country in country_32]\n",
    "\n",
    "print(country_32)"
   ]
  },
  {
   "cell_type": "code",
   "execution_count": 5,
   "id": "6b0e9161",
   "metadata": {
    "ExecuteTime": {
     "end_time": "2024-07-12T09:08:19.348550Z",
     "start_time": "2024-07-12T09:08:19.319932Z"
    },
    "scrolled": true
   },
   "outputs": [
    {
     "name": "stdout",
     "output_type": "stream",
     "text": [
      "['ANTIGUA AND BARBUDA', 'AFGHANISTAN', 'ALGERIA', 'AZERBAIJAN', 'ALBANIA', 'ARMENIA', 'ANGOLA', 'AMERICAN SAMOA', 'ARGENTINA', 'AUSTRALIA', 'AUSTRIA', 'ANTARCTICA', 'BAHRAIN', 'BARBADOS', 'BOTSWANA', 'BERMUDA', 'BELGIUM', 'BAHAMAS THE', 'BANGLADESH', 'BELIZE', 'BOSNIA AND HERZEGOVINA', 'BOLIVIA', 'BURMA', 'BENIN', 'BELARUS', 'SOLOMON ISLANDS', 'BRAZIL', 'BULGARIA', 'BRUNEI', 'BURUNDI', 'CANADA', 'CAMBODIA', 'CHAD', 'SRI LANKA', 'CONGO', 'ZAIRE', 'CHINA', 'CHILE', 'CAYMAN ISLANDS', 'COCOS (KEELING) ISLANDS', 'CAMEROON', 'COLOMBIA', 'NORTHERN MARIANA ISLANDS', 'COSTA RICA', 'CENTRAL AFRICAN REPUBLIC', 'CUBA', 'CAPE VERDE', 'COOK ISLANDS', 'CYPRUS', 'DENMARK', 'DOMINICA', 'DOMINICAN REPUBLIC', 'ECUADOR', 'EGYPT', 'IRELAND', 'EQUATORIAL GUINEA', 'ESTONIA', 'ERITREA', 'EL SALVADOR', 'ETHIOPIA', 'EUROPA ISLAND', 'CZECH REPUBLIC', 'FRENCH GUIANA', 'FINLAND', 'FIJI', 'FALKLAND ISLANDS (ISLAS MALVINAS)', 'MICRONESIA, FEDERATED STATES OF', 'FRENCH POLYNESIA', 'FRANCE', 'FRENCH SOUTHERN AND ANTARCTIC LANDS', 'GAMBIA  THE', 'GABON', 'GEORGIA', 'GHANA', 'GIBRALTAR', 'GREENLAND', 'GERMANY', 'GUADELOUPE', 'GUAM', 'GREECE', 'GUATEMALA', 'GUINEA', 'GUYANA', 'HONDURAS', 'CROATIA', 'HUNGARY', 'ICELAND', 'INDONESIA', 'INDIA', 'BRITISH INDIAN OCEAN TERRITORY', 'IRAN', 'ISRAEL', 'ITALY', \"COTE D'IVOIRE\", 'IRAQ', 'JAPAN', 'JAMAICA', 'JAN MAYEN', 'JORDAN', 'JOHNSTON ATOLL', 'JUAN DE NOVA ISLAND', 'KENYA', 'KYRGYZSTAN', 'KOREA, NORTH', 'KIRIBATI', 'KOREA, SOUTH', 'CHRISTMAS ISLAND', 'KUWAIT', 'KAZAKHSTAN', 'LAOS', 'LEBANON', 'LATVIA', 'LITHUANIA', 'LIBERIA', 'SLOVAKIA', 'PALMYRA ATOLL', 'LESOTHO', 'LUXEMBOURG', 'LIBYA', 'MADAGASCAR', 'MARTINIQUE', 'MACAU', 'MOLDOVA', 'MAYOTTE', 'MONGOLIA', 'MALAWI', 'MONTENEGRO', 'MACEDONIA', 'MALI', 'MOROCCO', 'MAURITIUS', 'MIDWAY ISLANDS', 'MAURITANIA', 'MALTA', 'OMAN', 'MALDIVES', 'MEXICO', 'MALAYSIA', 'MOZAMBIQUE', 'NEW CALEDONIA', 'NIUE', 'NORFOLK ISLAND', 'NIGER', 'VANUATU', 'NIGERIA', 'NETHERLANDS', 'NORWAY', 'NEPAL', 'SURINAME', 'NICARAGUA', 'NEW ZEALAND', 'PARAGUAY', 'PITCAIRN ISLANDS', 'PERU', 'PAKISTAN', 'POLAND', 'PANAMA', 'PORTUGAL', 'PAPUA NEW GUINEA', 'PALAU - TRUST TERRITORY OF THE PACIFIC ISLANDS', 'GUINEA-BISSAU', 'QATAR', 'REUNION AND ASSOCIATED ISLANDS', 'SERBIA', 'MARSHALL ISLANDS', 'ROMANIA', 'PHILIPPINES', 'PUERTO RICO', 'RUSSIA', 'RWANDA', 'SAUDI ARABIA', 'ST. PIERRE AND MIQUELON', 'SEYCHELLES', 'SOUTH AFRICA', 'SENEGAL', 'ST. HELENA', 'SLOVENIA', 'SIERRA LEONE', 'SINGAPORE', 'SPAIN', 'ST. LUCIA', 'SUDAN', 'SVALBARD', 'SWEDEN', 'SOUTH GEORGIA AND THE SOUTH SANDWICH ISLANDS', 'SYRIA', 'SWITZERLAND', 'TRINIDAD AND TOBAGO', 'TROMELIN ISLAND', 'THAILAND', 'TAJIKISTAN', 'TONGA', 'TOGO', 'TUNISIA', 'TURKEY', 'TUVALU', 'TURKMENISTAN', 'TANZANIA', 'UGANDA', 'UNITED KINGDOM', 'UKRAINE', 'UNITED STATES', 'BURKINA FASO', 'URUGUAY', 'UZBEKISTAN', 'VENEZUELA', 'VIETNAM', 'VIRGIN ISLANDS (U.S.)', 'NAMIBIA', 'WALLIS AND FUTUNA', 'WESTERN SAHARA', 'WAKE ISLAND', 'SWAZILAND', 'ZAMBIA', 'ZIMBABWE']\n"
     ]
    }
   ],
   "source": [
    "# NCEI 데이터 내 표기 국가명 변수\n",
    "# Null값은 제외해야 함\n",
    "countryNameList = list(dfFiletoCountry['COUNTRY NAME'].dropna().unique())\n",
    "countryNameList = [country.strip() for country in countryNameList]\n",
    "print(countryNameList)"
   ]
  },
  {
   "cell_type": "code",
   "execution_count": 6,
   "id": "796f27bb",
   "metadata": {
    "ExecuteTime": {
     "end_time": "2024-07-12T09:08:19.364198Z",
     "start_time": "2024-07-12T09:08:19.349428Z"
    }
   },
   "outputs": [
    {
     "name": "stdout",
     "output_type": "stream",
     "text": [
      "183\n",
      "2\n",
      "{'KYRGYZSTAN', 'UKRAINE', 'SOLOMON ISLANDS', 'NORFOLK ISLAND', 'IRAQ', 'MACAU', 'BOTSWANA', 'CAMBODIA', 'GUADELOUPE', 'BAHRAIN', 'BOLIVIA', 'LIBYA', 'MADAGASCAR', 'UGANDA', 'IRAN', 'CAPE VERDE', 'NIGER', 'PAKISTAN', 'BRITISH INDIAN OCEAN TERRITORY', 'MAURITANIA', 'MALI', 'PITCAIRN ISLANDS', 'COOK ISLANDS', 'GUATEMALA', 'UZBEKISTAN', 'UNITED STATES', 'ANTARCTICA', 'TURKEY', 'GUYANA', 'DOMINICAN REPUBLIC', 'CONGO', 'KIRIBATI', 'NORTHERN MARIANA ISLANDS', 'GIBRALTAR', 'ISRAEL', 'ETHIOPIA', 'VENEZUELA', 'EUROPA ISLAND', 'MALTA', 'TURKMENISTAN', 'ST. PIERRE AND MIQUELON', 'LATVIA', 'AZERBAIJAN', 'GABON', 'THAILAND', 'CHAD', 'OMAN', 'PANAMA', 'VIRGIN ISLANDS (U.S.)', 'INDONESIA', 'KOREA, SOUTH', 'ALBANIA', 'FINLAND', 'HONDURAS', 'KAZAKHSTAN', 'NORWAY', 'NICARAGUA', 'PARAGUAY', 'INDIA', 'NETHERLANDS', 'IRELAND', 'LITHUANIA', 'MARTINIQUE', 'MAYOTTE', 'PUERTO RICO', 'SURINAME', 'CHRISTMAS ISLAND', 'ARMENIA', 'PALAU - TRUST TERRITORY OF THE PACIFIC ISLANDS', 'MACEDONIA', 'BRUNEI', 'ALGERIA', 'NAMIBIA', 'NEW CALEDONIA', 'SIERRA LEONE', 'QATAR', 'VIETNAM', 'CAYMAN ISLANDS', 'SENEGAL', 'SOUTH GEORGIA AND THE SOUTH SANDWICH ISLANDS', 'TRINIDAD AND TOBAGO', 'TUNISIA', 'BURMA', 'MARSHALL ISLANDS', 'MOZAMBIQUE', 'MALDIVES', 'NIGERIA', 'JOHNSTON ATOLL', 'DOMINICA', 'RUSSIA', 'FIJI', 'AFGHANISTAN', 'REUNION AND ASSOCIATED ISLANDS', 'TONGA', 'WESTERN SAHARA', 'SWAZILAND', 'MAURITIUS', 'BOSNIA AND HERZEGOVINA', 'GUAM', 'CANADA', 'TOGO', 'JAN MAYEN', 'POLAND', 'MONGOLIA', 'ECUADOR', 'FALKLAND ISLANDS (ISLAS MALVINAS)', 'GAMBIA  THE', 'BENIN', 'BELARUS', 'BELIZE', 'KENYA', 'LIBERIA', 'MALAWI', 'MEXICO', 'GUINEA-BISSAU', 'SYRIA', 'PALMYRA ATOLL', 'BURKINA FASO', 'ZIMBABWE', 'GUINEA', 'SEYCHELLES', 'CHINA', 'JAMAICA', 'VANUATU', 'EQUATORIAL GUINEA', 'BERMUDA', 'ERITREA', 'ST. LUCIA', 'UNITED KINGDOM', 'SWEDEN', 'COSTA RICA', 'SUDAN', 'FRENCH GUIANA', 'COLOMBIA', 'ZAMBIA', 'SRI LANKA', 'RWANDA', 'NEPAL', 'LUXEMBOURG', 'SINGAPORE', 'KOREA, NORTH', 'CENTRAL AFRICAN REPUBLIC', 'ANGOLA', 'CUBA', 'ICELAND', 'WALLIS AND FUTUNA', 'FRENCH POLYNESIA', 'NIUE', 'TUVALU', 'ZAIRE', 'GHANA', 'PAPUA NEW GUINEA', 'ST. HELENA', 'KUWAIT', 'EGYPT', 'ANTIGUA AND BARBUDA', 'BAHAMAS THE', 'GREENLAND', 'CAMEROON', 'JORDAN', 'SAUDI ARABIA', 'SVALBARD', 'DENMARK', 'EL SALVADOR', 'TROMELIN ISLAND', 'TANZANIA', 'ESTONIA', \"COTE D'IVOIRE\", 'BARBADOS', 'LAOS', 'BANGLADESH', 'BURUNDI', 'MICRONESIA, FEDERATED STATES OF', 'LESOTHO', 'WAKE ISLAND', 'TAJIKISTAN', 'COCOS (KEELING) ISLANDS', 'PHILIPPINES', 'AMERICAN SAMOA', 'MONTENEGRO', 'LEBANON', 'MALAYSIA', 'MIDWAY ISLANDS', 'JUAN DE NOVA ISLAND', 'FRENCH SOUTHERN AND ANTARCTIC LANDS'}\n",
      "\n",
      "국가명 표기가 다른 곳\n",
      "LUXEMBURG > NCEI: LUXEMBOURG\n",
      "REPUBLIC OF TÜRKIYE > NCEI: TURKEY\n",
      "29\n",
      "19\n"
     ]
    },
    {
     "data": {
      "text/plain": [
       "183"
      ]
     },
     "execution_count": 6,
     "metadata": {},
     "output_type": "execute_result"
    }
   ],
   "source": [
    "# NCEI 국가 리스트에서 기준 국가 빠진 리스트\n",
    "a = len(countryNameList)\n",
    "b = len(country_32)\n",
    "# NCEI 국가 리스트에서 32개 뺀 값\n",
    "print(a-b)\n",
    "\n",
    "set_a = set(countryNameList)\n",
    "set_b = set(country_32)\n",
    "\n",
    "# b 차집합 a 결과\n",
    "print(len(set_b.difference(set_a)))\n",
    "\n",
    "# a 차집합 b 결과\n",
    "print(set_a.difference(set_b))\n",
    "\n",
    "# a 차집합 b 결과값에서 국가명 표기가 다른 곳 2군데를 찾음\n",
    "# 룩셈부르크, 터키\n",
    "# 추후에 작업할 때 참고해야 함\n",
    "print('\\n국가명 표기가 다른 곳')\n",
    "print('LUXEMBURG' + ' > NCEI: ' + 'LUXEMBOURG')\n",
    "print('REPUBLIC OF TÜRKIYE' + ' > NCEI: ' +  'TURKEY')\n",
    "country_others = list(set_a.difference(set_b))\n",
    "country_others.remove('LUXEMBOURG')\n",
    "country_others.remove('TURKEY')\n",
    "\n",
    "print(country_32.index('REPUBLIC OF TÜRKIYE'))\n",
    "print(country_32.index('LUXEMBURG'))\n",
    "\n",
    "country_32[29] = 'TURKEY'\n",
    "country_32[19] = 'LUXEMBOURG'\n",
    "\n",
    "len(country_others)"
   ]
  },
  {
   "cell_type": "markdown",
   "id": "45ba4588",
   "metadata": {},
   "source": [
    "## 국가별 함수\n",
    "- 국가별로 csv 파일을 불러와서 df_지점코드 라는 변수명에 저장한다\n",
    "- df_지점코드 형식의 변수명은 varList라는 변수명 리스트에 저장된다\n",
    "- varList가 반환된다.\n",
    "- varList에 들어있는 i번째 변수명을 변수로 활용하는 방법\n",
    "    - globals()[varList[i])"
   ]
  },
  {
   "cell_type": "code",
   "execution_count": 11,
   "id": "43ecd14f",
   "metadata": {
    "ExecuteTime": {
     "end_time": "2024-07-12T09:09:50.250687Z",
     "start_time": "2024-07-12T09:09:50.242595Z"
    }
   },
   "outputs": [],
   "source": [
    "def open_csv(country = 'korea, south'):\n",
    "    \n",
    "    # 변수명 리스트\n",
    "    varList = []\n",
    "    \n",
    "    # COUNTRY NAME에 country 인수가 포함되어있는 행을 추출\n",
    "    csvList = dfFiletoCountry[dfFiletoCountry['COUNTRY NAME'].str.contains((country.upper())) == True]\n",
    "    # 국가별 기상 관측 장소 갯수\n",
    "    cnt = len(csvList)\n",
    "    # 추출된 행의 RealFileNM값들을 리스트로 저장\n",
    "    stnList = csvList['RealFileNM'].values\n",
    "    \n",
    "    # \n",
    "    for STN in stnList:\n",
    "        varNM = 'df_{}'.format(STN)\n",
    "\n",
    "        globals()[varNM] = pd.read_csv('data_climate/gsom-latest/' + STN)\n",
    "        varList.append(varNM)\n",
    "    \n",
    "    print('변수 갯수: ', cnt)\n",
    "          \n",
    "    return varList"
   ]
  },
  {
   "cell_type": "code",
   "execution_count": 16,
   "id": "337d8c24",
   "metadata": {
    "ExecuteTime": {
     "end_time": "2024-07-12T09:12:00.655334Z",
     "start_time": "2024-07-12T09:11:12.979177Z"
    }
   },
   "outputs": [
    {
     "ename": "KeyboardInterrupt",
     "evalue": "",
     "output_type": "error",
     "traceback": [
      "\u001b[1;31m--------------------------------------------------------------------------\u001b[0m",
      "\u001b[1;31mKeyboardInterrupt\u001b[0m                        Traceback (most recent call last)",
      "Cell \u001b[1;32mIn[16], line 2\u001b[0m\n\u001b[0;32m      1\u001b[0m \u001b[38;5;66;03m# 변수명은 상관X\u001b[39;00m\n\u001b[1;32m----> 2\u001b[0m AUList \u001b[38;5;241m=\u001b[39m \u001b[43mopen_csv\u001b[49m\u001b[43m(\u001b[49m\u001b[38;5;124;43m'\u001b[39;49m\u001b[38;5;124;43mAUSTRALIA\u001b[39;49m\u001b[38;5;124;43m'\u001b[39;49m\u001b[43m)\u001b[49m\n",
      "Cell \u001b[1;32mIn[11], line 17\u001b[0m, in \u001b[0;36mopen_csv\u001b[1;34m(country)\u001b[0m\n\u001b[0;32m     14\u001b[0m \u001b[38;5;28;01mfor\u001b[39;00m STN \u001b[38;5;129;01min\u001b[39;00m stnList:\n\u001b[0;32m     15\u001b[0m     varNM \u001b[38;5;241m=\u001b[39m \u001b[38;5;124m'\u001b[39m\u001b[38;5;124mdf_\u001b[39m\u001b[38;5;132;01m{}\u001b[39;00m\u001b[38;5;124m'\u001b[39m\u001b[38;5;241m.\u001b[39mformat(STN)\n\u001b[1;32m---> 17\u001b[0m     \u001b[38;5;28mglobals\u001b[39m()[varNM] \u001b[38;5;241m=\u001b[39m \u001b[43mpd\u001b[49m\u001b[38;5;241;43m.\u001b[39;49m\u001b[43mread_csv\u001b[49m\u001b[43m(\u001b[49m\u001b[38;5;124;43m'\u001b[39;49m\u001b[38;5;124;43mdata_climate/gsom-latest/\u001b[39;49m\u001b[38;5;124;43m'\u001b[39;49m\u001b[43m \u001b[49m\u001b[38;5;241;43m+\u001b[39;49m\u001b[43m \u001b[49m\u001b[43mSTN\u001b[49m\u001b[43m)\u001b[49m\n\u001b[0;32m     18\u001b[0m     varList\u001b[38;5;241m.\u001b[39mappend(varNM)\n\u001b[0;32m     20\u001b[0m \u001b[38;5;28mprint\u001b[39m(\u001b[38;5;124m'\u001b[39m\u001b[38;5;124m변수 갯수: \u001b[39m\u001b[38;5;124m'\u001b[39m, cnt)\n",
      "File \u001b[1;32mC:\\ProgramData\\anaconda3\\envs\\ds_study\\lib\\site-packages\\pandas\\io\\parsers\\readers.py:912\u001b[0m, in \u001b[0;36mread_csv\u001b[1;34m(filepath_or_buffer, sep, delimiter, header, names, index_col, usecols, dtype, engine, converters, true_values, false_values, skipinitialspace, skiprows, skipfooter, nrows, na_values, keep_default_na, na_filter, verbose, skip_blank_lines, parse_dates, infer_datetime_format, keep_date_col, date_parser, date_format, dayfirst, cache_dates, iterator, chunksize, compression, thousands, decimal, lineterminator, quotechar, quoting, doublequote, escapechar, comment, encoding, encoding_errors, dialect, on_bad_lines, delim_whitespace, low_memory, memory_map, float_precision, storage_options, dtype_backend)\u001b[0m\n\u001b[0;32m    899\u001b[0m kwds_defaults \u001b[38;5;241m=\u001b[39m _refine_defaults_read(\n\u001b[0;32m    900\u001b[0m     dialect,\n\u001b[0;32m    901\u001b[0m     delimiter,\n\u001b[1;32m   (...)\u001b[0m\n\u001b[0;32m    908\u001b[0m     dtype_backend\u001b[38;5;241m=\u001b[39mdtype_backend,\n\u001b[0;32m    909\u001b[0m )\n\u001b[0;32m    910\u001b[0m kwds\u001b[38;5;241m.\u001b[39mupdate(kwds_defaults)\n\u001b[1;32m--> 912\u001b[0m \u001b[38;5;28;01mreturn\u001b[39;00m \u001b[43m_read\u001b[49m\u001b[43m(\u001b[49m\u001b[43mfilepath_or_buffer\u001b[49m\u001b[43m,\u001b[49m\u001b[43m \u001b[49m\u001b[43mkwds\u001b[49m\u001b[43m)\u001b[49m\n",
      "File \u001b[1;32mC:\\ProgramData\\anaconda3\\envs\\ds_study\\lib\\site-packages\\pandas\\io\\parsers\\readers.py:583\u001b[0m, in \u001b[0;36m_read\u001b[1;34m(filepath_or_buffer, kwds)\u001b[0m\n\u001b[0;32m    580\u001b[0m     \u001b[38;5;28;01mreturn\u001b[39;00m parser\n\u001b[0;32m    582\u001b[0m \u001b[38;5;28;01mwith\u001b[39;00m parser:\n\u001b[1;32m--> 583\u001b[0m     \u001b[38;5;28;01mreturn\u001b[39;00m \u001b[43mparser\u001b[49m\u001b[38;5;241;43m.\u001b[39;49m\u001b[43mread\u001b[49m\u001b[43m(\u001b[49m\u001b[43mnrows\u001b[49m\u001b[43m)\u001b[49m\n",
      "File \u001b[1;32mC:\\ProgramData\\anaconda3\\envs\\ds_study\\lib\\site-packages\\pandas\\io\\parsers\\readers.py:1721\u001b[0m, in \u001b[0;36mTextFileReader.read\u001b[1;34m(self, nrows)\u001b[0m\n\u001b[0;32m   1718\u001b[0m     \u001b[38;5;28;01melse\u001b[39;00m:\n\u001b[0;32m   1719\u001b[0m         new_rows \u001b[38;5;241m=\u001b[39m \u001b[38;5;28mlen\u001b[39m(index)\n\u001b[1;32m-> 1721\u001b[0m     df \u001b[38;5;241m=\u001b[39m \u001b[43mDataFrame\u001b[49m\u001b[43m(\u001b[49m\u001b[43mcol_dict\u001b[49m\u001b[43m,\u001b[49m\u001b[43m \u001b[49m\u001b[43mcolumns\u001b[49m\u001b[38;5;241;43m=\u001b[39;49m\u001b[43mcolumns\u001b[49m\u001b[43m,\u001b[49m\u001b[43m \u001b[49m\u001b[43mindex\u001b[49m\u001b[38;5;241;43m=\u001b[39;49m\u001b[43mindex\u001b[49m\u001b[43m)\u001b[49m\n\u001b[0;32m   1723\u001b[0m     \u001b[38;5;28mself\u001b[39m\u001b[38;5;241m.\u001b[39m_currow \u001b[38;5;241m+\u001b[39m\u001b[38;5;241m=\u001b[39m new_rows\n\u001b[0;32m   1724\u001b[0m \u001b[38;5;28;01mreturn\u001b[39;00m df\n",
      "File \u001b[1;32mC:\\ProgramData\\anaconda3\\envs\\ds_study\\lib\\site-packages\\pandas\\core\\frame.py:709\u001b[0m, in \u001b[0;36mDataFrame.__init__\u001b[1;34m(self, data, index, columns, dtype, copy)\u001b[0m\n\u001b[0;32m    703\u001b[0m     mgr \u001b[38;5;241m=\u001b[39m \u001b[38;5;28mself\u001b[39m\u001b[38;5;241m.\u001b[39m_init_mgr(\n\u001b[0;32m    704\u001b[0m         data, axes\u001b[38;5;241m=\u001b[39m{\u001b[38;5;124m\"\u001b[39m\u001b[38;5;124mindex\u001b[39m\u001b[38;5;124m\"\u001b[39m: index, \u001b[38;5;124m\"\u001b[39m\u001b[38;5;124mcolumns\u001b[39m\u001b[38;5;124m\"\u001b[39m: columns}, dtype\u001b[38;5;241m=\u001b[39mdtype, copy\u001b[38;5;241m=\u001b[39mcopy\n\u001b[0;32m    705\u001b[0m     )\n\u001b[0;32m    707\u001b[0m \u001b[38;5;28;01melif\u001b[39;00m \u001b[38;5;28misinstance\u001b[39m(data, \u001b[38;5;28mdict\u001b[39m):\n\u001b[0;32m    708\u001b[0m     \u001b[38;5;66;03m# GH#38939 de facto copy defaults to False only in non-dict cases\u001b[39;00m\n\u001b[1;32m--> 709\u001b[0m     mgr \u001b[38;5;241m=\u001b[39m \u001b[43mdict_to_mgr\u001b[49m\u001b[43m(\u001b[49m\u001b[43mdata\u001b[49m\u001b[43m,\u001b[49m\u001b[43m \u001b[49m\u001b[43mindex\u001b[49m\u001b[43m,\u001b[49m\u001b[43m \u001b[49m\u001b[43mcolumns\u001b[49m\u001b[43m,\u001b[49m\u001b[43m \u001b[49m\u001b[43mdtype\u001b[49m\u001b[38;5;241;43m=\u001b[39;49m\u001b[43mdtype\u001b[49m\u001b[43m,\u001b[49m\u001b[43m \u001b[49m\u001b[43mcopy\u001b[49m\u001b[38;5;241;43m=\u001b[39;49m\u001b[43mcopy\u001b[49m\u001b[43m,\u001b[49m\u001b[43m \u001b[49m\u001b[43mtyp\u001b[49m\u001b[38;5;241;43m=\u001b[39;49m\u001b[43mmanager\u001b[49m\u001b[43m)\u001b[49m\n\u001b[0;32m    710\u001b[0m \u001b[38;5;28;01melif\u001b[39;00m \u001b[38;5;28misinstance\u001b[39m(data, ma\u001b[38;5;241m.\u001b[39mMaskedArray):\n\u001b[0;32m    711\u001b[0m     \u001b[38;5;28;01mfrom\u001b[39;00m \u001b[38;5;21;01mnumpy\u001b[39;00m\u001b[38;5;21;01m.\u001b[39;00m\u001b[38;5;21;01mma\u001b[39;00m \u001b[38;5;28;01mimport\u001b[39;00m mrecords\n",
      "File \u001b[1;32mC:\\ProgramData\\anaconda3\\envs\\ds_study\\lib\\site-packages\\pandas\\core\\internals\\construction.py:481\u001b[0m, in \u001b[0;36mdict_to_mgr\u001b[1;34m(data, index, columns, dtype, typ, copy)\u001b[0m\n\u001b[0;32m    477\u001b[0m     \u001b[38;5;28;01melse\u001b[39;00m:\n\u001b[0;32m    478\u001b[0m         \u001b[38;5;66;03m# dtype check to exclude e.g. range objects, scalars\u001b[39;00m\n\u001b[0;32m    479\u001b[0m         arrays \u001b[38;5;241m=\u001b[39m [x\u001b[38;5;241m.\u001b[39mcopy() \u001b[38;5;28;01mif\u001b[39;00m \u001b[38;5;28mhasattr\u001b[39m(x, \u001b[38;5;124m\"\u001b[39m\u001b[38;5;124mdtype\u001b[39m\u001b[38;5;124m\"\u001b[39m) \u001b[38;5;28;01melse\u001b[39;00m x \u001b[38;5;28;01mfor\u001b[39;00m x \u001b[38;5;129;01min\u001b[39;00m arrays]\n\u001b[1;32m--> 481\u001b[0m \u001b[38;5;28;01mreturn\u001b[39;00m \u001b[43marrays_to_mgr\u001b[49m\u001b[43m(\u001b[49m\u001b[43marrays\u001b[49m\u001b[43m,\u001b[49m\u001b[43m \u001b[49m\u001b[43mcolumns\u001b[49m\u001b[43m,\u001b[49m\u001b[43m \u001b[49m\u001b[43mindex\u001b[49m\u001b[43m,\u001b[49m\u001b[43m \u001b[49m\u001b[43mdtype\u001b[49m\u001b[38;5;241;43m=\u001b[39;49m\u001b[43mdtype\u001b[49m\u001b[43m,\u001b[49m\u001b[43m \u001b[49m\u001b[43mtyp\u001b[49m\u001b[38;5;241;43m=\u001b[39;49m\u001b[43mtyp\u001b[49m\u001b[43m,\u001b[49m\u001b[43m \u001b[49m\u001b[43mconsolidate\u001b[49m\u001b[38;5;241;43m=\u001b[39;49m\u001b[43mcopy\u001b[49m\u001b[43m)\u001b[49m\n",
      "File \u001b[1;32mC:\\ProgramData\\anaconda3\\envs\\ds_study\\lib\\site-packages\\pandas\\core\\internals\\construction.py:153\u001b[0m, in \u001b[0;36marrays_to_mgr\u001b[1;34m(arrays, columns, index, dtype, verify_integrity, typ, consolidate)\u001b[0m\n\u001b[0;32m    150\u001b[0m axes \u001b[38;5;241m=\u001b[39m [columns, index]\n\u001b[0;32m    152\u001b[0m \u001b[38;5;28;01mif\u001b[39;00m typ \u001b[38;5;241m==\u001b[39m \u001b[38;5;124m\"\u001b[39m\u001b[38;5;124mblock\u001b[39m\u001b[38;5;124m\"\u001b[39m:\n\u001b[1;32m--> 153\u001b[0m     \u001b[38;5;28;01mreturn\u001b[39;00m \u001b[43mcreate_block_manager_from_column_arrays\u001b[49m\u001b[43m(\u001b[49m\n\u001b[0;32m    154\u001b[0m \u001b[43m        \u001b[49m\u001b[43marrays\u001b[49m\u001b[43m,\u001b[49m\u001b[43m \u001b[49m\u001b[43maxes\u001b[49m\u001b[43m,\u001b[49m\u001b[43m \u001b[49m\u001b[43mconsolidate\u001b[49m\u001b[38;5;241;43m=\u001b[39;49m\u001b[43mconsolidate\u001b[49m\u001b[43m,\u001b[49m\u001b[43m \u001b[49m\u001b[43mrefs\u001b[49m\u001b[38;5;241;43m=\u001b[39;49m\u001b[43mrefs\u001b[49m\n\u001b[0;32m    155\u001b[0m \u001b[43m    \u001b[49m\u001b[43m)\u001b[49m\n\u001b[0;32m    156\u001b[0m \u001b[38;5;28;01melif\u001b[39;00m typ \u001b[38;5;241m==\u001b[39m \u001b[38;5;124m\"\u001b[39m\u001b[38;5;124marray\u001b[39m\u001b[38;5;124m\"\u001b[39m:\n\u001b[0;32m    157\u001b[0m     \u001b[38;5;28;01mreturn\u001b[39;00m ArrayManager(arrays, [index, columns])\n",
      "File \u001b[1;32mC:\\ProgramData\\anaconda3\\envs\\ds_study\\lib\\site-packages\\pandas\\core\\internals\\managers.py:2137\u001b[0m, in \u001b[0;36mcreate_block_manager_from_column_arrays\u001b[1;34m(arrays, axes, consolidate, refs)\u001b[0m\n\u001b[0;32m   2119\u001b[0m \u001b[38;5;28;01mdef\u001b[39;00m \u001b[38;5;21mcreate_block_manager_from_column_arrays\u001b[39m(\n\u001b[0;32m   2120\u001b[0m     arrays: \u001b[38;5;28mlist\u001b[39m[ArrayLike],\n\u001b[0;32m   2121\u001b[0m     axes: \u001b[38;5;28mlist\u001b[39m[Index],\n\u001b[1;32m   (...)\u001b[0m\n\u001b[0;32m   2133\u001b[0m     \u001b[38;5;66;03m# These last three are sufficient to allow us to safely pass\u001b[39;00m\n\u001b[0;32m   2134\u001b[0m     \u001b[38;5;66;03m#  verify_integrity=False below.\u001b[39;00m\n\u001b[0;32m   2136\u001b[0m     \u001b[38;5;28;01mtry\u001b[39;00m:\n\u001b[1;32m-> 2137\u001b[0m         blocks \u001b[38;5;241m=\u001b[39m \u001b[43m_form_blocks\u001b[49m\u001b[43m(\u001b[49m\u001b[43marrays\u001b[49m\u001b[43m,\u001b[49m\u001b[43m \u001b[49m\u001b[43mconsolidate\u001b[49m\u001b[43m,\u001b[49m\u001b[43m \u001b[49m\u001b[43mrefs\u001b[49m\u001b[43m)\u001b[49m\n\u001b[0;32m   2138\u001b[0m         mgr \u001b[38;5;241m=\u001b[39m BlockManager(blocks, axes, verify_integrity\u001b[38;5;241m=\u001b[39m\u001b[38;5;28;01mFalse\u001b[39;00m)\n\u001b[0;32m   2139\u001b[0m     \u001b[38;5;28;01mexcept\u001b[39;00m \u001b[38;5;167;01mValueError\u001b[39;00m \u001b[38;5;28;01mas\u001b[39;00m e:\n",
      "File \u001b[1;32mC:\\ProgramData\\anaconda3\\envs\\ds_study\\lib\\site-packages\\pandas\\core\\internals\\managers.py:2215\u001b[0m, in \u001b[0;36m_form_blocks\u001b[1;34m(arrays, consolidate, refs)\u001b[0m\n\u001b[0;32m   2212\u001b[0m \u001b[38;5;28;01mif\u001b[39;00m \u001b[38;5;28missubclass\u001b[39m(dtype\u001b[38;5;241m.\u001b[39mtype, (\u001b[38;5;28mstr\u001b[39m, \u001b[38;5;28mbytes\u001b[39m)):\n\u001b[0;32m   2213\u001b[0m     dtype \u001b[38;5;241m=\u001b[39m np\u001b[38;5;241m.\u001b[39mdtype(\u001b[38;5;28mobject\u001b[39m)\n\u001b[1;32m-> 2215\u001b[0m values, placement \u001b[38;5;241m=\u001b[39m \u001b[43m_stack_arrays\u001b[49m\u001b[43m(\u001b[49m\u001b[38;5;28;43mlist\u001b[39;49m\u001b[43m(\u001b[49m\u001b[43mtup_block\u001b[49m\u001b[43m)\u001b[49m\u001b[43m,\u001b[49m\u001b[43m \u001b[49m\u001b[43mdtype\u001b[49m\u001b[43m)\u001b[49m\n\u001b[0;32m   2216\u001b[0m \u001b[38;5;28;01mif\u001b[39;00m is_dtlike:\n\u001b[0;32m   2217\u001b[0m     values \u001b[38;5;241m=\u001b[39m ensure_wrapped_if_datetimelike(values)\n",
      "File \u001b[1;32mC:\\ProgramData\\anaconda3\\envs\\ds_study\\lib\\site-packages\\pandas\\core\\internals\\managers.py:2257\u001b[0m, in \u001b[0;36m_stack_arrays\u001b[1;34m(tuples, dtype)\u001b[0m\n\u001b[0;32m   2255\u001b[0m stacked \u001b[38;5;241m=\u001b[39m np\u001b[38;5;241m.\u001b[39mempty(shape, dtype\u001b[38;5;241m=\u001b[39mdtype)\n\u001b[0;32m   2256\u001b[0m \u001b[38;5;28;01mfor\u001b[39;00m i, arr \u001b[38;5;129;01min\u001b[39;00m \u001b[38;5;28menumerate\u001b[39m(arrays):\n\u001b[1;32m-> 2257\u001b[0m     stacked[i] \u001b[38;5;241m=\u001b[39m arr\n\u001b[0;32m   2259\u001b[0m \u001b[38;5;28;01mreturn\u001b[39;00m stacked, placement\n",
      "\u001b[1;31mKeyboardInterrupt\u001b[0m: "
     ]
    }
   ],
   "source": [
    "# 변수명은 상관X\n",
    "koreaList = open_csv()"
   ]
  },
  {
   "cell_type": "code",
   "execution_count": 15,
   "id": "fc6bdaa4",
   "metadata": {
    "ExecuteTime": {
     "end_time": "2024-07-12T09:10:35.131621Z",
     "start_time": "2024-07-12T09:10:35.119582Z"
    },
    "scrolled": true
   },
   "outputs": [
    {
     "data": {
      "text/plain": [
       "array(['  ANTIGUA AND BARBUDA', nan, '  AFGHANISTAN', '  ALGERIA',\n",
       "       '  AZERBAIJAN', '  ALBANIA', '  ARMENIA', '  ANGOLA',\n",
       "       '  AMERICAN SAMOA', '  ARGENTINA', '  AUSTRALIA', '  AUSTRIA',\n",
       "       '  ANTARCTICA', '  BAHRAIN', '  BARBADOS', '  BOTSWANA',\n",
       "       '  BERMUDA', '  BELGIUM', '  BAHAMAS THE', '  BANGLADESH',\n",
       "       '  BELIZE', '  BOSNIA AND HERZEGOVINA', '  BOLIVIA', '  BURMA',\n",
       "       '  BENIN', '  BELARUS', '  SOLOMON ISLANDS', '  BRAZIL',\n",
       "       '  BULGARIA', '  BRUNEI', '  BURUNDI', '  CANADA', '  CAMBODIA',\n",
       "       '  CHAD', '  SRI LANKA', '  CONGO', '  ZAIRE', '  CHINA',\n",
       "       '  CHILE', '  CAYMAN ISLANDS', '  COCOS (KEELING) ISLANDS',\n",
       "       '  CAMEROON', '  COLOMBIA', '  NORTHERN MARIANA ISLANDS',\n",
       "       '  COSTA RICA', '  CENTRAL AFRICAN REPUBLIC', '  CUBA',\n",
       "       '  CAPE VERDE', '  COOK ISLANDS', '  CYPRUS', '  DENMARK',\n",
       "       '  DOMINICA', '  DOMINICAN REPUBLIC', '  ECUADOR', '  EGYPT',\n",
       "       '  IRELAND', '  EQUATORIAL GUINEA', '  ESTONIA', '  ERITREA',\n",
       "       '  EL SALVADOR', '  ETHIOPIA', '  EUROPA ISLAND',\n",
       "       '  CZECH REPUBLIC', '  FRENCH GUIANA', '  FINLAND', '  FIJI',\n",
       "       '  FALKLAND ISLANDS (ISLAS MALVINAS)',\n",
       "       '  MICRONESIA, FEDERATED STATES OF', '  FRENCH POLYNESIA',\n",
       "       '  FRANCE', '  FRENCH SOUTHERN AND ANTARCTIC LANDS',\n",
       "       '  GAMBIA  THE', '  GABON', '  GEORGIA', '  GHANA', '  GIBRALTAR',\n",
       "       '  GREENLAND', '  GERMANY', '  GUADELOUPE', '  GUAM', '  GREECE',\n",
       "       '  GUATEMALA', '  GUINEA', '  GUYANA', '  HONDURAS', '  CROATIA',\n",
       "       '  HUNGARY', '  ICELAND', '  INDONESIA', '  INDIA',\n",
       "       '  BRITISH INDIAN OCEAN TERRITORY', '  IRAN', '  ISRAEL',\n",
       "       '  ITALY', \"  COTE D'IVOIRE\", '  IRAQ', '  JAPAN', '  JAMAICA',\n",
       "       '  JAN MAYEN', '  JORDAN', '  JOHNSTON ATOLL',\n",
       "       '  JUAN DE NOVA ISLAND', '  KENYA', '  KYRGYZSTAN',\n",
       "       '  KOREA, NORTH', '  KIRIBATI', '  KOREA, SOUTH',\n",
       "       '  CHRISTMAS ISLAND', '  KUWAIT', '  KAZAKHSTAN', '  LAOS',\n",
       "       '  LEBANON', '  LATVIA', '  LITHUANIA', '  LIBERIA', '  SLOVAKIA',\n",
       "       '  PALMYRA ATOLL', '  LESOTHO', '  LUXEMBOURG', '  LIBYA',\n",
       "       '  MADAGASCAR', '  MARTINIQUE', '  MACAU', '  MOLDOVA',\n",
       "       '  MAYOTTE', '  MONGOLIA', '  MALAWI', '  MONTENEGRO',\n",
       "       '  MACEDONIA', '  MALI', '  MOROCCO', '  MAURITIUS',\n",
       "       '  MIDWAY ISLANDS', '  MAURITANIA', '  MALTA', '  OMAN',\n",
       "       '  MALDIVES', '  MEXICO', '  MALAYSIA', '  MOZAMBIQUE',\n",
       "       '  NEW CALEDONIA', '  NIUE', '  NORFOLK ISLAND', '  NIGER',\n",
       "       '  VANUATU', '  NIGERIA', '  NETHERLANDS', '  NORWAY', '  NEPAL',\n",
       "       '  SURINAME', '  NICARAGUA', '  NEW ZEALAND', '  PARAGUAY',\n",
       "       '  PITCAIRN ISLANDS', '  PERU', '  PAKISTAN', '  POLAND',\n",
       "       '  PANAMA', '  PORTUGAL', '  PAPUA NEW GUINEA',\n",
       "       '  PALAU - TRUST TERRITORY OF THE PACIFIC ISLANDS',\n",
       "       '  GUINEA-BISSAU', '  QATAR', '  REUNION AND ASSOCIATED ISLANDS',\n",
       "       '  SERBIA', '  MARSHALL ISLANDS', '  ROMANIA', '  PHILIPPINES',\n",
       "       '  PUERTO RICO', '  RUSSIA', '  RWANDA', '  SAUDI ARABIA',\n",
       "       '  ST. PIERRE AND MIQUELON', '  SEYCHELLES', '  SOUTH AFRICA',\n",
       "       '  SENEGAL', '  ST. HELENA', '  SLOVENIA', '  SIERRA LEONE',\n",
       "       '  SINGAPORE', '  SPAIN', '  ST. LUCIA', '  SUDAN', '  SVALBARD',\n",
       "       '  SWEDEN', '  SOUTH GEORGIA AND THE SOUTH SANDWICH ISLANDS',\n",
       "       '  SYRIA', '  SWITZERLAND', '  TRINIDAD AND TOBAGO',\n",
       "       '  TROMELIN ISLAND', '  THAILAND', '  TAJIKISTAN', '  TONGA',\n",
       "       '  TOGO', '  TUNISIA', '  TURKEY', '  TUVALU', '  TURKMENISTAN',\n",
       "       '  TANZANIA', '  UGANDA', '  UNITED KINGDOM', '  UKRAINE',\n",
       "       '  UNITED STATES', '  BURKINA FASO', '  URUGUAY', '  UZBEKISTAN',\n",
       "       '  VENEZUELA', '  VIETNAM', '  VIRGIN ISLANDS (U.S.)', '  NAMIBIA',\n",
       "       '  WALLIS AND FUTUNA', '  WESTERN SAHARA', '  WAKE ISLAND',\n",
       "       '  SWAZILAND', '  ZAMBIA', '  ZIMBABWE'], dtype=object)"
      ]
     },
     "execution_count": 15,
     "metadata": {},
     "output_type": "execute_result"
    }
   ],
   "source": [
    "dfFiletoCountry['COUNTRY NAME'].unique()"
   ]
  },
  {
   "cell_type": "code",
   "execution_count": null,
   "id": "16607503",
   "metadata": {},
   "outputs": [],
   "source": []
  },
  {
   "cell_type": "markdown",
   "id": "bd5af28e",
   "metadata": {},
   "source": [
    "## 특정 연도 데이터 추출 및 누적 함수\n",
    "- 변수명이 들어있는 리스트를 활용해 특정연도 데이터를 추출하여 누적\n",
    "- dfTMP에 활용 df를 순차적으로 할당한다.\n",
    "- or_args(\\*args)함수를 활용해 복수의 연도를 적용한다.\n",
    "    - 이때 연도는 문자타입으로 나열함\n",
    "    - ex) or_args(varList, '2022', '2021', ...)\n",
    "- df변수에 dfTMP에서 특정연도 추출한 행을 누적한다.\n",
    "- df를 반환한다."
   ]
  },
  {
   "cell_type": "code",
   "execution_count": null,
   "id": "34d7940a",
   "metadata": {
    "ExecuteTime": {
     "end_time": "2024-07-12T08:46:11.974904Z",
     "start_time": "2024-07-12T08:46:11.957472Z"
    }
   },
   "outputs": [],
   "source": [
    "def open_csv_year(varList, *year):\n",
    "    \n",
    "    flag = False\n",
    "    \n",
    "    # 국가별 df 변수를 순서대로 불러 df_TMP에 저장\n",
    "    for i in range(len(varList)):\n",
    "        \n",
    "#         print('적용 df: ', varList[i])\n",
    "        dfTMP = globals()[varList[i]]\n",
    "        \n",
    "        # 지정된 연도를 |로 묶어서 str 변수를 반환\n",
    "        def or_args(*args):\n",
    "            items = ''\n",
    "\n",
    "            for num, item in enumerate(args):\n",
    "                if num == len(args) - 1:\n",
    "                    items += item\n",
    "                else:\n",
    "                    items += item + '|'\n",
    "\n",
    "            return items\n",
    "\n",
    "        # 활용 연도\n",
    "        Years = or_args(*year)\n",
    "        tmp = dfTMP[dfTMP['DATE'].str.contains(Years)]\n",
    "        # csv 처음 불러왔을 때\n",
    "        if flag == False:\n",
    "#             print('0')\n",
    "            # 결과 df 변수에 Years가 포함된 데이터만 추출\n",
    "            df = tmp\n",
    "            # flag를 변경하여 이 if문에 다시 들어오지 않는다.\n",
    "            flag = True\n",
    "            print('길이: ', len(df))\n",
    "        else:\n",
    "#             print('1')\n",
    "            # 결과 df와 지금 df의 Years가 포함된 데이터를 이어붙인다.\n",
    "            df = pd.concat([df, tmp], axis = 0)\n",
    "            print('추가 행 길이: ', len(tmp))\n",
    "            \n",
    "    df.reset_index(inplace = True, drop = True)\n",
    "    print(Years, str(varList))\n",
    "    \n",
    "    return df"
   ]
  },
  {
   "cell_type": "code",
   "execution_count": null,
   "id": "dc88b876",
   "metadata": {
    "ExecuteTime": {
     "end_time": "2024-07-12T08:46:12.341028Z",
     "start_time": "2024-07-12T08:46:11.974904Z"
    },
    "scrolled": true
   },
   "outputs": [],
   "source": [
    "dfKorea = open_csv_year(koreaList, '2022', '2021')"
   ]
  },
  {
   "cell_type": "code",
   "execution_count": null,
   "id": "440bacae",
   "metadata": {
    "ExecuteTime": {
     "end_time": "2024-07-12T08:46:12.375255Z",
     "start_time": "2024-07-12T08:46:12.346011Z"
    }
   },
   "outputs": [],
   "source": [
    "dfKorea.head(50)"
   ]
  },
  {
   "cell_type": "markdown",
   "id": "672de3d6",
   "metadata": {},
   "source": [
    "# !!! 추가로 해야할 일\n",
    "- 기준 국가_20 데이터 넣기\n",
    "- 기준 국가_20 이름과 여기에 표기된 국가명에 차이가 없는지 확인하기\n",
    "- 기준 국가_20를 적용한 데이터의 특정 연도 데이터 확인하기\n",
    "- 나머지 국가에 특정 연도 데이터 확인하기"
   ]
  },
  {
   "cell_type": "code",
   "execution_count": null,
   "id": "116fb7bf",
   "metadata": {
    "ExecuteTime": {
     "end_time": "2024-07-12T08:46:12.392935Z",
     "start_time": "2024-07-12T08:46:12.377530Z"
    }
   },
   "outputs": [],
   "source": [
    "# 기준 국가_32 변수\n",
    "print(country_32)\n",
    "\n",
    "# NCEI 데이터 내 표기 국가명 변수\n",
    "print(countryNameList)\n",
    "\n",
    "# 기준 국가 빠진 나머지 국가\n",
    "# 정확한 코드 아님, 직관적 이해 위해 적은 것\n",
    "# country_others = countryNameList - country_20\n",
    "print(country_others)"
   ]
  },
  {
   "cell_type": "code",
   "execution_count": null,
   "id": "b30c4db8",
   "metadata": {
    "ExecuteTime": {
     "end_time": "2024-07-12T09:00:16.712702Z",
     "start_time": "2024-07-12T09:00:16.706453Z"
    }
   },
   "outputs": [],
   "source": [
    "# 특정 국가, 연도가 적용된 결과 df 모아둔 것\n",
    "# 정확한 코드 아님, 직관적 이해 적은 것\n",
    "def dfCountryYear(countryList, *years):\n",
    "    flag = False\n",
    "\n",
    "    for country in countryList:\n",
    "        \n",
    "        print('현재 나라: ', country)\n",
    "        \n",
    "        # 특정 국가의 모든 구역 파일명 리스트\n",
    "        tmpList = open_csv(country)\n",
    "        \n",
    "        # 특정 국가의 모든 구역 파일명 리스트와 연도가 적용된 df\n",
    "        tmp = open_csv_year(tmpList, *years)\n",
    "    \n",
    "        # csv 처음 불러왔을 때\n",
    "        if flag == False:\n",
    "            print('0')\n",
    "            # 결과 df 변수에 첫 번째 국가 df를 적용\n",
    "            df = tmp\n",
    "            # flag를 변경하여 이 if문에 다시 들어오지 않는다.\n",
    "            flag = True\n",
    "            print('df 길이: ', len(df))\n",
    "        else:\n",
    "            print('1')\n",
    "            # 결과 df와 현재 국가 df를 이어붙임\n",
    "            df = pd.concat([df, tmp], axis = 0)\n",
    "            print('df 추가 길이: ', len(tmp))\n",
    "            \n",
    "    return df"
   ]
  },
  {
   "cell_type": "code",
   "execution_count": null,
   "id": "343f29e9",
   "metadata": {
    "ExecuteTime": {
     "end_time": "2024-07-12T09:04:15.511194Z",
     "start_time": "2024-07-12T09:04:11.938124Z"
    },
    "scrolled": true
   },
   "outputs": [],
   "source": [
    "# 기준 국가\n",
    "dfResult = dfCountryYear(country_32[1:2], '2022')\n",
    "\n",
    "len(dfResult)\n",
    "dfResult"
   ]
  },
  {
   "cell_type": "code",
   "execution_count": null,
   "id": "0efcd8d3",
   "metadata": {
    "ExecuteTime": {
     "end_time": "2024-07-12T08:58:31.052723Z",
     "start_time": "2024-07-12T08:58:31.030686Z"
    }
   },
   "outputs": [],
   "source": [
    "dfResult"
   ]
  },
  {
   "cell_type": "code",
   "execution_count": null,
   "id": "977482cc",
   "metadata": {},
   "outputs": [],
   "source": [
    "# 나머지 국가\n",
    "dfResult = dfCountryYear(country_others)\n",
    "\n",
    "len(dfResult)\n",
    "dfResult"
   ]
  },
  {
   "cell_type": "code",
   "execution_count": null,
   "id": "86686b8a",
   "metadata": {
    "ExecuteTime": {
     "end_time": "2024-07-11T10:32:18.506410Z",
     "start_time": "2024-07-11T10:32:18.481724Z"
    }
   },
   "outputs": [],
   "source": [
    "# 추후에 결정되면 저장할때 활용\n",
    "dfResult.to_csv('data_climate/' + + '.csv', index = False)"
   ]
  },
  {
   "cell_type": "markdown",
   "id": "fb4b878f",
   "metadata": {},
   "source": [
    "# ! 회의 이후에 필요한 내용 추가하여 시각화 해야함\n",
    "## EDA\n"
   ]
  },
  {
   "cell_type": "markdown",
   "id": "e70e3f5e",
   "metadata": {},
   "source": [
    "### 시각화 참고 자료\n",
    "- plt.hist\n",
    "    - https://lifelong-education-dr-kim.tistory.com/entry/%EB%8D%B0%EC%9D%B4%ED%84%B0%EC%9D%98-%EB%B6%84%ED%8F%AC%EB%A5%BC-%EA%B0%80%EC%8B%9C%ED%99%94-%ED%95%98%EB%8A%94-matplotlib-%EB%9D%BC%EC%9D%B4%EB%B8%8C%EB%9F%AC%EB%A6%AC%EC%9D%98-hist"
   ]
  },
  {
   "cell_type": "code",
   "execution_count": null,
   "id": "2975f954",
   "metadata": {
    "ExecuteTime": {
     "end_time": "2024-07-11T06:53:02.862520Z",
     "start_time": "2024-07-11T06:53:02.849578Z"
    },
    "scrolled": true
   },
   "outputs": [],
   "source": [
    "dfTMP = globals()[koreaList[0]]\n",
    "dfTMP.info()"
   ]
  },
  {
   "cell_type": "code",
   "execution_count": null,
   "id": "bf10e160",
   "metadata": {
    "ExecuteTime": {
     "end_time": "2024-07-11T06:58:35.828256Z",
     "start_time": "2024-07-11T06:58:35.670233Z"
    }
   },
   "outputs": [],
   "source": [
    "plt.figure(figsize = (10, 8))\n",
    "\n",
    "dfTMP['TMAX'].hist(color = 'r', alpha = 0.5)\n",
    "dfTMP['TMIN'].hist(color = 'b', alpha = 0.5)\n",
    "dfTMP['TAVG'].hist(color = 'g', alpha = 0.5)\n",
    "plt.show()"
   ]
  }
 ],
 "metadata": {
  "kernelspec": {
   "display_name": "ds_study",
   "language": "python",
   "name": "ds_study"
  },
  "language_info": {
   "codemirror_mode": {
    "name": "ipython",
    "version": 3
   },
   "file_extension": ".py",
   "mimetype": "text/x-python",
   "name": "python",
   "nbconvert_exporter": "python",
   "pygments_lexer": "ipython3",
   "version": "3.8.19"
  }
 },
 "nbformat": 4,
 "nbformat_minor": 5
}
