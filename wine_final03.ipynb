{
 "cells": [
  {
   "cell_type": "markdown",
   "id": "c93232be",
   "metadata": {},
   "source": [
    "# wine + soil + climate\n",
    "- 데이터 정리\n",
    "- SVM 적용"
   ]
  },
  {
   "cell_type": "code",
   "execution_count": null,
   "id": "85be88f1",
   "metadata": {
    "ExecuteTime": {
     "start_time": "2024-07-25T01:37:09.773Z"
    }
   },
   "outputs": [],
   "source": [
    "import os\n",
    "import pandas as pd\n",
    "import numpy as np\n",
    "import matplotlib.pyplot as plt\n",
    "import seaborn as sns\n",
    "\n",
    "pd.options.display.max_columns = None"
   ]
  },
  {
   "cell_type": "markdown",
   "id": "8b1f0c87",
   "metadata": {},
   "source": [
    "## clensing & encoding\n",
    "- 클렌징, 인코딩, 스케일링 부분\n",
    "    - wine_data_EDA2.ipynb: 이 파일에서 “결측치 처리” 파트까지 진행해주시면 되고,\n",
    "    - Machine_Learning_total.ipynb: 이 파일에서 ~ one-hot encoding 까지 적용 후, SVM이나 다른 머신러닝 진행하면서 사용하셨던 StandardScaler까지 적용해주시면 될 것 같습니다!"
   ]
  },
  {
   "cell_type": "markdown",
   "id": "56a6794f",
   "metadata": {},
   "source": [
    "### Wine_data_EDA2\n",
    "#### 포도 품종 정리하기"
   ]
  },
  {
   "cell_type": "markdown",
   "id": "12170ae7",
   "metadata": {},
   "source": [
    "##### wine_total_data_0721.csv파일에 적용하기"
   ]
  },
  {
   "cell_type": "code",
   "execution_count": null,
   "id": "72770ee2",
   "metadata": {
    "ExecuteTime": {
     "start_time": "2024-07-25T01:37:09.778Z"
    }
   },
   "outputs": [],
   "source": [
    "data = pd.DataFrame()\n",
    "dfList = []\n",
    "for files in os.listdir('data'):\n",
    "    if files.startswith('wine_total_data_0721'):\n",
    "        print(files)\n",
    "        dfNM = 'df_{}'.format(files[-8:-4])\n",
    "        dfList.append(dfNM)\n",
    "        globals()[dfNM] = pd.read_csv('data/' + files)\n",
    "        globals()[dfNM].drop(['Unnamed: 0'], axis = 1, inplace = True)\n",
    "        data = pd.concat([data, globals()[dfNM]])"
   ]
  },
  {
   "cell_type": "code",
   "execution_count": null,
   "id": "76b50334",
   "metadata": {
    "ExecuteTime": {
     "start_time": "2024-07-25T01:37:09.780Z"
    }
   },
   "outputs": [],
   "source": [
    "LEN = 0\n",
    "for i in range(len(dfList)):\n",
    "    LEN += len(globals()[dfList[i]])\n",
    "if LEN == len(data):\n",
    "    print(LEN, len(data))\n",
    "    print('Data 합치기 완료')"
   ]
  },
  {
   "cell_type": "code",
   "execution_count": null,
   "id": "053ad027",
   "metadata": {
    "ExecuteTime": {
     "start_time": "2024-07-25T01:37:09.784Z"
    },
    "scrolled": false
   },
   "outputs": [],
   "source": [
    "data.info()"
   ]
  },
  {
   "cell_type": "code",
   "execution_count": null,
   "id": "9a3234ee",
   "metadata": {
    "ExecuteTime": {
     "start_time": "2024-07-25T01:37:09.786Z"
    },
    "scrolled": true
   },
   "outputs": [],
   "source": [
    "if 'year' not in data.columns:\n",
    "    print(data['Year'].unique())"
   ]
  },
  {
   "cell_type": "code",
   "execution_count": null,
   "id": "239e5007",
   "metadata": {
    "ExecuteTime": {
     "start_time": "2024-07-25T01:37:09.789Z"
    },
    "scrolled": true
   },
   "outputs": [],
   "source": [
    "data.head()"
   ]
  },
  {
   "cell_type": "code",
   "execution_count": null,
   "id": "ad35d87a",
   "metadata": {
    "ExecuteTime": {
     "start_time": "2024-07-25T01:37:09.791Z"
    }
   },
   "outputs": [],
   "source": [
    "# 현재의 온도는 K 기준으로 되어 있어서 섭씨로 변경해줌\n",
    "data['TG'] = data['TG'] - 273\n",
    "data['TN'] = data['TN'] - 273\n",
    "data['TX'] = data['TX'] - 273"
   ]
  },
  {
   "cell_type": "code",
   "execution_count": null,
   "id": "ace01f0c",
   "metadata": {
    "ExecuteTime": {
     "start_time": "2024-07-25T01:37:09.794Z"
    }
   },
   "outputs": [],
   "source": [
    "data['Grape_Variety'] = data['Grape_Variety'].str.strip()\n",
    "len(data['Grape_Variety'].unique())"
   ]
  },
  {
   "cell_type": "code",
   "execution_count": null,
   "id": "f9d7e26e",
   "metadata": {
    "ExecuteTime": {
     "start_time": "2024-07-25T01:37:09.797Z"
    }
   },
   "outputs": [],
   "source": [
    "grapes = [grape for grape in data.loc[~data['Grape_Variety'].isna(), 'Grape_Variety'].unique()]\n",
    "grapes = sorted(grapes)\n",
    "grapes"
   ]
  },
  {
   "cell_type": "code",
   "execution_count": null,
   "id": "d8aeee34",
   "metadata": {
    "ExecuteTime": {
     "start_time": "2024-07-25T01:37:09.799Z"
    },
    "scrolled": false
   },
   "outputs": [],
   "source": [
    "# 동일 품종 or 오타 수정\n",
    "data.loc[data['Grape_Variety'].isin(['albarin negro mencia']), 'Grape_Variety'] = 'albarin negro'\n",
    "data.loc[data['Grape_Variety'].isin(['aragonez', 'tinta roriz', ]), 'Grape_Variety'] = 'tempranillo'\n",
    "data.loc[data['Grape_Variety'].isin(['cabernet', 'cabernet savignon']), 'Grape_Variety'] = 'cabernet sauvignon'\n",
    "data.loc[data['Grape_Variety'].isin(['carinena']), 'Grape_Variety'] = 'carignan'\n",
    "data.loc[data['Grape_Variety'].isin(['garnacha', 'grenache tinta', ]), 'Grape_Variety'] = 'grenache'\n",
    "data.loc[data['Grape_Variety'].isin(['garnacha tintorera', 'grenache tintorera']), 'Grape_Variety'] = 'alicante bouschet'\n",
    "data.loc[data['Grape_Variety'].isin(['pinot noir precoce']), 'Grape_Variety'] = 'pinot noir'\n",
    "data.loc[data['Grape_Variety'].isin(['shiraz and syrah']), 'Grape_Variety'] = 'syrah'\n",
    "data.loc[data['Grape_Variety'].isin(['tanat']), 'Grape_Variety'] = 'tannat'\n",
    "\n",
    "print(data['Grape_Variety'].nunique(), data['Grape_Variety'].unique())\n"
   ]
  },
  {
   "cell_type": "code",
   "execution_count": null,
   "id": "0db3d8e1",
   "metadata": {
    "ExecuteTime": {
     "start_time": "2024-07-25T01:37:09.802Z"
    }
   },
   "outputs": [],
   "source": [
    "# wine_data_EDA2.ipynb의 17번 cell df['Grape_Variety'].unique() 결과와 비교한 결과\n",
    "\n",
    "a = ['malbec', 'cabernet sauvignon', 'pinot noir', 'bastardo', 'merlot',\n",
    "       'syrah', 'carmenere', 'zinfandel', 'alicante bouschet', 'palomino',\n",
    "       'cabernet franc', 'petit verdot', 'petit sirah', 'gewurztraminer',\n",
    "       'riesling', 'chardonnay', 'grenache', 'mauzac', 'mourvedre',\n",
    "       'grenache blanc', 'clairette', 'roussanne', 'bourboulenc',\n",
    "       'marsanne', 'saperavi', 'nebbiolo', 'nosiola', 'corvina',\n",
    "       'rondinella', 'vranac', 'kratosija', 'galego dourado',\n",
    "       'sauvignon blanc', 'pinot gris', 'cinsault', 'carignan',\n",
    "       'tempranillo', 'tannat', 'barbera', 'marselan', 'pinotage',\n",
    "       'viognier', 'sangiovese', 'tinta barroca', 'touriga nacional',\n",
    "       'touriga franca', 'tinto cao', 'bonarda', 'cardin', 'freisa',\n",
    "       'raboso veronese', 'greco nero', 'criolla grande', 'torrontes',\n",
    "       'aglianico', 'montepulciano', 'graciano', 'muscat', 'counoise',\n",
    "       'norton', 'concord', 'chambourcin', 'plavac_mali', 'blatina',\n",
    "       'teran', 'kadarka blau', 'gamay', 'blaufrankisch', 'zweigelt',\n",
    "       'sankt laurent', 'grasevina', 'xynisteri', 'nielluccio',\n",
    "       'sciaccarello', 'semillon', 'sauvignon gris', 'muscadelle',\n",
    "       'poulsard', 'savagnin', 'aligote', 'vin de liqueur',\n",
    "       'carignan gris', 'chenin blanc', 'melon de bourgogne', 'brandy',\n",
    "       'mtsvane', 'tsolikouri', 'tavkveri', 'croatina', 'morellino',\n",
    "       'brachetto', 'dolcetto', 'lagrein', 'sagrantino', \"nero d'avola\",\n",
    "       'pelaverga', 'albarossa', 'marzemino', 'raboso',\n",
    "       'nerello mascalese', 'nerello cappuccio', 'aleatico',\n",
    "       'feteasca neagra', 'baga', 'bical', 'ramisco', 'negroamaro',\n",
    "       'pinot meunier', 'alfrocheiro preto', 'vijariego negro',\n",
    "       'listan negro', 'red blend', 'negramoll', 'listan blanco',\n",
    "       'albillo criolo', 'rioja red blend', 'monastrell', 'moristel',\n",
    "       'callet', 'fogoneu', 'manto negro', 'mantonegro', 'bobal',\n",
    "       'rome negro', 'giro', 'bordeaux blend red', 'pinot blanc',\n",
    "       'macabeo', 'areni noir', 'mencia', 'lledoner pelut',\n",
    "       'garnacha blanca', 'tinta de toro', 'maturana', 'albarin negro',\n",
    "       'carrasquin', 'verdejo tinto', 'verdejo', 'verdejo negro',\n",
    "       'godello', 'prokupac', 'rose blend', 'gamaret', 'frankovka',\n",
    "       'chasselas', 'silvaner', 'rieslaner', 'assyrtiko',\n",
    "       'champagne blend', 'white blend', 'mavro', 'robola', 'xinomavro',\n",
    "       'vidiano', 'liatiko', 'vilana', 'malagousia', 'malvasia',\n",
    "       'savatiano', 'roditis', 'limnio', 'muscat of alexandria',\n",
    "       'muscat blanc a petits grains', 'sideritis', 'negoska', 'debina',\n",
    "       'moschofilero', 'mavrodaphne', 'furmint', 'keknyelu', 'harslevelu',\n",
    "       'juhfark', 'welschriesling']\n",
    "\n",
    "print(set(data['Grape_Variety'].unique()).symmetric_difference(set(a)))\n"
   ]
  },
  {
   "cell_type": "code",
   "execution_count": null,
   "id": "19be4bc6",
   "metadata": {
    "ExecuteTime": {
     "start_time": "2024-07-25T01:37:09.805Z"
    },
    "scrolled": true
   },
   "outputs": [],
   "source": [
    "data.info()"
   ]
  },
  {
   "cell_type": "code",
   "execution_count": null,
   "id": "808d88a5",
   "metadata": {
    "ExecuteTime": {
     "start_time": "2024-07-25T01:37:09.807Z"
    },
    "scrolled": true
   },
   "outputs": [],
   "source": [
    "top12_grape = ['malbec', 'cabernet sauvignon', 'pinot noir', 'merlot', 'grenache',\n",
    "               'syrah', 'cabernet franc', 'tempranillo', 'nebbiolo', 'sangiovese',\n",
    "               'montepulciano', 'zinfandel']\n",
    "\n",
    "data['Top12_Grape'] = 0\n",
    "data.loc[data['Grape_Variety'].isin(top12_grape), 'Top12_Grape'] = 1\n",
    "data['Top12_Grape'].value_counts()"
   ]
  },
  {
   "cell_type": "code",
   "execution_count": null,
   "id": "b6e0f337",
   "metadata": {
    "ExecuteTime": {
     "start_time": "2024-07-25T01:37:09.810Z"
    }
   },
   "outputs": [],
   "source": [
    "# wine_data_EDA2.ipynb의 23번 cell 결과와 비교한 결과\n",
    "\n",
    "# Top12_Grape\n",
    "# 1    9268\n",
    "# 0    4554\n",
    "# Name: count, dtype: int64\n",
    "\n",
    "ratio_1 = data['Top12_Grape'].value_counts()[0] / data['Top12_Grape'].value_counts()[1]\n",
    "ratio_2 = 4554 / 9268\n",
    "\n",
    "if ratio_1 == ratio_2:\n",
    "    print('Good')"
   ]
  },
  {
   "cell_type": "code",
   "execution_count": null,
   "id": "871b2914",
   "metadata": {
    "ExecuteTime": {
     "start_time": "2024-07-25T01:37:09.812Z"
    },
    "scrolled": true
   },
   "outputs": [],
   "source": [
    "grape_dic = {\n",
    "    'malbec' : 1,\n",
    "    'cabernet sauvignon' : 2,\n",
    "    'pinot noir' : 3 ,\n",
    "    'merlot' : 4,\n",
    "    'grenache' : 5,\n",
    "    'syrah' : 6,\n",
    "    'cabernet franc' :7,\n",
    "    'tempranillo' : 8,\n",
    "    'nebbiolo' : 9,\n",
    "    'sangiovese' : 10,\n",
    "    'montepulciano' : 11,\n",
    "    'zinfandel' : 12\n",
    "}\n",
    "# \"cannot reindex on an axis with duplicate labels\" error에서는 reset_index 해줘야 함\n",
    "data.reset_index(drop = True, inplace = True)\n",
    "data['Grape_Variety'] = data.loc[data['Top12_Grape'] == 1]['Grape_Variety'].map(grape_dic)\n",
    "data.loc[data['Grape_Variety'].isnull(), 'Grape_Variety'] = 0\n",
    "data['Grape_Variety'].value_counts()\n",
    "     "
   ]
  },
  {
   "cell_type": "code",
   "execution_count": null,
   "id": "a29b4e3b",
   "metadata": {
    "ExecuteTime": {
     "start_time": "2024-07-25T01:37:09.815Z"
    }
   },
   "outputs": [],
   "source": [
    "# wine_data_EDA2.ipynb의 24번 cell 결과와 비교한 결과\n",
    "\n",
    "# Grape_Variety\n",
    "# 0.0     4554\n",
    "# 6.0     1899\n",
    "# 2.0     1651\n",
    "# 3.0     1505\n",
    "# 4.0     1111\n",
    "# 5.0      776\n",
    "# 7.0      553\n",
    "# 1.0      440\n",
    "# 10.0     437\n",
    "# 9.0      388\n",
    "# 8.0      330\n",
    "# 11.0     108\n",
    "# 12.0      70\n",
    "# Name: count, dtype: int64\n",
    "\n",
    "data['Grape_Variety'].value_counts()"
   ]
  },
  {
   "cell_type": "markdown",
   "id": "557fab7a",
   "metadata": {},
   "source": [
    "### Wine_data_EDA2\n",
    "#### 데이터 결측치 처리"
   ]
  },
  {
   "cell_type": "code",
   "execution_count": null,
   "id": "eef491b8",
   "metadata": {
    "ExecuteTime": {
     "start_time": "2024-07-25T01:37:09.819Z"
    }
   },
   "outputs": [],
   "source": [
    "na_counts = data.isna().sum()\n",
    "na_counts = na_counts[na_counts > 0]\n",
    "na_counts"
   ]
  },
  {
   "cell_type": "code",
   "execution_count": null,
   "id": "cbc9e042",
   "metadata": {
    "ExecuteTime": {
     "start_time": "2024-07-25T01:37:09.822Z"
    }
   },
   "outputs": [],
   "source": [
    "# wine_data_EDA2.ipynb의 32번 cell 결과와 비교한 결과\n",
    "\n",
    "# Region Lv1            62\n",
    "# TEXTURE_USDA_x       406\n",
    "# REF_BULK_DENSITY     406\n",
    "# DRAINAGE_x           406\n",
    "# ROOTS_x             7553\n",
    "# IL_x                7553\n",
    "# ROOTS_y             7553\n",
    "# IL_y                7553\n",
    "# SWR                 8637\n",
    "# DRAINAGE_y           406\n",
    "# TEXTURE_USDA_y       406\n",
    "# REF_BULK             406\n",
    "# dtype: int64\n",
    "\n",
    "na_counts"
   ]
  },
  {
   "cell_type": "code",
   "execution_count": null,
   "id": "5b45ab69",
   "metadata": {
    "ExecuteTime": {
     "start_time": "2024-07-25T01:37:09.824Z"
    },
    "scrolled": true
   },
   "outputs": [],
   "source": [
    "na_counts / len(data) * 100"
   ]
  },
  {
   "cell_type": "code",
   "execution_count": null,
   "id": "6fb7ddf7",
   "metadata": {
    "ExecuteTime": {
     "start_time": "2024-07-25T01:37:09.827Z"
    }
   },
   "outputs": [],
   "source": [
    "# wine_data_EDA2.ipynb의 33번 cell 결과와 비교한 결과\n",
    "\n",
    "# Region Lv1           0.448560\n",
    "# TEXTURE_USDA_x       2.937346\n",
    "# REF_BULK_DENSITY     2.937346\n",
    "# DRAINAGE_x           2.937346\n",
    "# ROOTS_x             54.644769\n",
    "# IL_x                54.644769\n",
    "# ROOTS_y             54.644769\n",
    "# IL_y                54.644769\n",
    "# SWR                 62.487339\n",
    "# DRAINAGE_y           2.937346\n",
    "# TEXTURE_USDA_y       2.937346\n",
    "# REF_BULK             2.937346\n",
    "# dtype: float64"
   ]
  },
  {
   "cell_type": "code",
   "execution_count": null,
   "id": "095a5f4a",
   "metadata": {
    "ExecuteTime": {
     "start_time": "2024-07-25T01:37:09.829Z"
    }
   },
   "outputs": [],
   "source": [
    "drop_cols = ['ROOTS_x', 'IL_x', 'ROOTS_y', 'IL_y', 'SWR']\n",
    "data.drop(columns = drop_cols, inplace = True)"
   ]
  },
  {
   "cell_type": "code",
   "execution_count": null,
   "id": "d2c2e25e",
   "metadata": {
    "ExecuteTime": {
     "start_time": "2024-07-25T01:37:09.832Z"
    }
   },
   "outputs": [],
   "source": [
    "# TEXTURE_USDA_x, REF_BULK_DENSITY, DRAINAGE_x, DRAINAGE_y, TEXTURE_USDA_y, REF_BULK 확인\n",
    "data_na = data[data['TEXTURE_USDA_x'].isna()][['TEXTURE_USDA_x', 'REF_BULK_DENSITY', 'DRAINAGE_x', 'DRAINAGE_y', 'TEXTURE_USDA_y', 'REF_BULK']]\n",
    "data_na.isna().sum()"
   ]
  },
  {
   "cell_type": "code",
   "execution_count": null,
   "id": "2d480838",
   "metadata": {
    "ExecuteTime": {
     "start_time": "2024-07-25T01:37:09.834Z"
    }
   },
   "outputs": [],
   "source": [
    "# wine_data_EDA2.ipynb의 37번 cell 결과와 비교한 결과\n",
    "\n",
    "# TEXTURE_USDA_x      406\n",
    "# REF_BULK_DENSITY    406\n",
    "# DRAINAGE_x          406\n",
    "# DRAINAGE_y          406\n",
    "# TEXTURE_USDA_y      406\n",
    "# REF_BULK            406\n",
    "# dtype: int64\n",
    "\n",
    "data_na.isna().sum()"
   ]
  },
  {
   "cell_type": "code",
   "execution_count": null,
   "id": "4b39f500",
   "metadata": {
    "ExecuteTime": {
     "start_time": "2024-07-25T01:37:09.837Z"
    },
    "scrolled": false
   },
   "outputs": [],
   "source": [
    "data_na_idx = data_na.index.tolist()\n",
    "data_na_idx[:5]"
   ]
  },
  {
   "cell_type": "code",
   "execution_count": null,
   "id": "eb3c9c62",
   "metadata": {
    "ExecuteTime": {
     "start_time": "2024-07-25T01:37:09.839Z"
    }
   },
   "outputs": [],
   "source": [
    "A = data.loc[data_na_idx, 'WRB4_x'].value_counts()\n",
    "B = len(data[data['WRB4_x'] == 'WR'])\n",
    "C = len(data[data['WRB4_x'] == 'TC'])\n",
    "\n",
    "print(A)\n",
    "print(B)\n",
    "print(C)"
   ]
  },
  {
   "cell_type": "code",
   "execution_count": null,
   "id": "265d1299",
   "metadata": {
    "ExecuteTime": {
     "start_time": "2024-07-25T01:37:09.841Z"
    }
   },
   "outputs": [],
   "source": [
    "# wine_data_EDA2.ipynb의 42번 cell 결과와 비교한 결과\n",
    "\n",
    "# WRB4_x\n",
    "# TC    382\n",
    "# WR     24\n",
    "# Name: count, dtype: int64\n",
    "\n",
    "print(A)"
   ]
  },
  {
   "cell_type": "code",
   "execution_count": null,
   "id": "fb7a99ac",
   "metadata": {
    "ExecuteTime": {
     "start_time": "2024-07-25T01:37:09.844Z"
    }
   },
   "outputs": [],
   "source": [
    "data = data.drop(data_na_idx, axis = 0)\n",
    "data.info()"
   ]
  },
  {
   "cell_type": "code",
   "execution_count": null,
   "id": "4d174a91",
   "metadata": {
    "ExecuteTime": {
     "start_time": "2024-07-25T01:37:09.846Z"
    }
   },
   "outputs": [],
   "source": [
    "na_counts = data.isna().sum()\n",
    "na_counts = na_counts[na_counts > 0]\n",
    "na_counts"
   ]
  },
  {
   "cell_type": "code",
   "execution_count": null,
   "id": "6c508cde",
   "metadata": {
    "ExecuteTime": {
     "start_time": "2024-07-25T01:37:09.849Z"
    }
   },
   "outputs": [],
   "source": [
    "# wine_data_EDA2.ipynb의 49번 cell 결과와 비교한 결과\n",
    "\n",
    "# Region Lv1    62\n",
    "# dtype: int64\n",
    "\n",
    "print(na_counts)"
   ]
  },
  {
   "cell_type": "markdown",
   "id": "74014c57",
   "metadata": {},
   "source": [
    "### Machine_Learning_total.ipynb\n",
    "#### one-hot encoding까지 적용"
   ]
  },
  {
   "cell_type": "markdown",
   "id": "0c06e264",
   "metadata": {},
   "source": [
    "##### 2. Featrue Selection"
   ]
  },
  {
   "cell_type": "code",
   "execution_count": null,
   "id": "502e6467",
   "metadata": {
    "ExecuteTime": {
     "start_time": "2024-07-25T01:37:09.853Z"
    },
    "scrolled": true
   },
   "outputs": [],
   "source": [
    "data.info()"
   ]
  },
  {
   "cell_type": "code",
   "execution_count": null,
   "id": "9669b197",
   "metadata": {
    "ExecuteTime": {
     "start_time": "2024-07-25T01:37:09.856Z"
    }
   },
   "outputs": [],
   "source": [
    "data.columns"
   ]
  },
  {
   "cell_type": "code",
   "execution_count": null,
   "id": "26a95eed",
   "metadata": {
    "ExecuteTime": {
     "start_time": "2024-07-25T01:37:09.858Z"
    }
   },
   "outputs": [],
   "source": [
    "# 활용하지 않는 컬럼 삭제\n",
    "# Region Lv1,Continent, Country,Lat,Lng 는 위치 정보로 예측에 편향을 줄 수 있음, 머신러닝에서 제외\n",
    "data.drop(['Longitude','Latitude','Continent','Country','Region Lv1'],\n",
    "            axis = 1,\n",
    "            inplace = True)\n",
    "# 위 논리에 따라 기후 데이터와 연결하기 위해 활용되었던 추가된 위치 정보도 제외함\n",
    "anotherMapInfo = ['LatRound', 'LngRound', 'LatInt', 'LngInt', 'lat', 'lon', 'lat_round', 'lon_round', 'lat_int', 'lon_int']\n",
    "data.drop(anotherMapInfo, axis = 1, inplace = True)\n",
    "\n",
    "# Top12_Grape 컬럼 제외\n",
    "data.drop('Top12_Grape', axis = 1, inplace = True)\n",
    "data.drop('SEQUENCE', axis = 1, inplace = True)\n",
    "data.drop('HWSD2_SMU_ID_y', axis = 1, inplace = True)\n",
    "# Soil Mapping Unit 컬럼은 단지 토양 유닛을 구분하는 정보이기 때문에 삭제\n",
    "data.drop('Soil Mapping Unit', axis = 1, inplace = True)\n",
    "# EDA 상관간계 파악했을 때,\n",
    "# 'REF_BULK_DENSITY' 와 'REF_BULK','BULK_DENSITY' 와 'BULK' 는 서로 1이었기 때문에 둘중에 한개의 컬럼 제외\n",
    "data.drop(['REF_BULK_DENSITY','BULK_DENSITY'], axis = 1, inplace = True)\n",
    "# 'SHARE_x', 'ROOT_DEPTH_x', 'AWC_x' 와 'SHARE_y', 'ROOT_DEPTH_y', 'AWC_y' 도 1이므로 둘중 한개 제외\n",
    "data.drop(['SHARE_y', 'ROOT_DEPTH_y', 'AWC_y'], axis = 1, inplace = True)\n",
    "# DRAINAGE_x , DRAINAGE_y 과 WRB4_x, WRB4_y 과 TEXTURE_USDA_X,TEXTURE_USDA_y 은 값이 동일한 컬럼으로 둘중 한개 제외\n",
    "data.drop(['WRB4_y','DRAINAGE_y', 'TEXTURE_USDA_y' ],axis=1,inplace=True)\n",
    "\n",
    "# ML에 활용하기 좋게 컬럼명 변경\n",
    "data.rename(columns = {'Grape_Variety': 'target'},\n",
    "            inplace = True)\n",
    "\n",
    "data.head()"
   ]
  },
  {
   "cell_type": "code",
   "execution_count": null,
   "id": "120d43d1",
   "metadata": {
    "ExecuteTime": {
     "start_time": "2024-07-25T01:37:09.861Z"
    },
    "scrolled": true
   },
   "outputs": [],
   "source": [
    "data.info()"
   ]
  },
  {
   "cell_type": "code",
   "execution_count": null,
   "id": "3da5d468",
   "metadata": {
    "ExecuteTime": {
     "start_time": "2024-07-25T01:37:09.863Z"
    }
   },
   "outputs": [],
   "source": [
    "# Machine Learning.ipynb의 전처리 결과 컬럼의 갯수인 29개에 기후 관련 데이터인 TG, TN, TX, RR, RR1, Year 6개를 더한 값\n",
    "if len(data.columns) == 29 + 6:\n",
    "    print('Clensing!')\n",
    "    data.to_csv('data/wine_total_data_0721_cleansed.csv', index = False)"
   ]
  },
  {
   "cell_type": "code",
   "execution_count": null,
   "id": "7ee1e94e",
   "metadata": {
    "ExecuteTime": {
     "start_time": "2024-07-25T01:37:09.866Z"
    },
    "scrolled": true
   },
   "outputs": [],
   "source": [
    "df = pd.read_csv('data/wine_total_data_0721_cleansed.csv')\n",
    "df.head()"
   ]
  },
  {
   "cell_type": "markdown",
   "id": "91318ebc",
   "metadata": {},
   "source": [
    "#### 3. One-hot encoding"
   ]
  },
  {
   "cell_type": "code",
   "execution_count": null,
   "id": "61cc4d3d",
   "metadata": {
    "ExecuteTime": {
     "start_time": "2024-07-25T01:37:09.869Z"
    }
   },
   "outputs": [],
   "source": [
    "df.select_dtypes('object').head()"
   ]
  },
  {
   "cell_type": "code",
   "execution_count": null,
   "id": "e45de7be",
   "metadata": {
    "ExecuteTime": {
     "start_time": "2024-07-25T01:37:09.871Z"
    }
   },
   "outputs": [],
   "source": [
    "EncodingColumns = list(df.select_dtypes('object').columns)"
   ]
  },
  {
   "cell_type": "code",
   "execution_count": null,
   "id": "f5e93b9b",
   "metadata": {
    "ExecuteTime": {
     "start_time": "2024-07-25T01:37:09.873Z"
    }
   },
   "outputs": [],
   "source": [
    "for col in EncodingColumns:\n",
    "    df = pd.get_dummies(df,\n",
    "                        columns = [col],\n",
    "                        prefix = str(col),\n",
    "                        dtype = int)\n",
    "print(df.columns, len(df.columns))\n",
    "df.head()"
   ]
  },
  {
   "cell_type": "code",
   "execution_count": null,
   "id": "aa8072e2",
   "metadata": {
    "ExecuteTime": {
     "start_time": "2024-07-25T01:37:09.875Z"
    }
   },
   "outputs": [],
   "source": [
    "# Machine Learning.ipynb의 전처리 결과 컬럼의 갯수인 102개에 기후 관련 데이터인 TG, TN, TX, RR, RR1, Year 6개를 더한 값\n",
    "if len(df.columns) == 102 + 6:\n",
    "    print('Encoding!')\n",
    "    df.to_csv('data/wine_total_data_0721_cleansed_Encoded.csv', index = False)"
   ]
  },
  {
   "cell_type": "code",
   "execution_count": null,
   "id": "be648a0d",
   "metadata": {
    "ExecuteTime": {
     "start_time": "2024-07-25T01:37:09.878Z"
    }
   },
   "outputs": [],
   "source": [
    "df_checking = pd.read_csv('data/wine_total_data_0721_cleansed_Encoded.csv')\n",
    "df_checking.head()"
   ]
  },
  {
   "cell_type": "markdown",
   "id": "abeddb08",
   "metadata": {},
   "source": [
    "### Scaling"
   ]
  },
  {
   "cell_type": "code",
   "execution_count": null,
   "id": "58fd0bdc",
   "metadata": {
    "ExecuteTime": {
     "start_time": "2024-07-25T01:37:09.880Z"
    }
   },
   "outputs": [],
   "source": [
    "df_copy = df.copy()\n",
    "df_copy.info(verbose = True, show_counts = True)"
   ]
  },
  {
   "cell_type": "code",
   "execution_count": null,
   "id": "8c89225b",
   "metadata": {
    "ExecuteTime": {
     "start_time": "2024-07-25T01:37:09.883Z"
    }
   },
   "outputs": [],
   "source": [
    "df_copy1 = df_copy.iloc[:, :30]\n",
    "df_copy2 = df_copy.iloc[:, 30:]"
   ]
  },
  {
   "cell_type": "code",
   "execution_count": null,
   "id": "14bbd8ab",
   "metadata": {
    "ExecuteTime": {
     "start_time": "2024-07-25T01:37:09.885Z"
    }
   },
   "outputs": [],
   "source": [
    "df_copy1.head()"
   ]
  },
  {
   "cell_type": "code",
   "execution_count": null,
   "id": "7c9e2f11",
   "metadata": {
    "ExecuteTime": {
     "start_time": "2024-07-25T01:37:09.888Z"
    }
   },
   "outputs": [],
   "source": [
    "df_copy2.head()"
   ]
  },
  {
   "cell_type": "code",
   "execution_count": null,
   "id": "4adcd7c0",
   "metadata": {
    "ExecuteTime": {
     "start_time": "2024-07-25T01:37:09.891Z"
    },
    "scrolled": true
   },
   "outputs": [],
   "source": [
    "#표준화\n",
    "from sklearn.preprocessing import StandardScaler\n",
    "\n",
    "scaler = StandardScaler()\n",
    "\n",
    "scaler_fit = scaler.fit_transform(df_copy1)\n",
    "df_scaled = pd.DataFrame(scaler_fit, \n",
    "                         index = df_copy1.index, \n",
    "                         columns = df_copy1.columns)\n",
    "df_scaled = pd.concat([df_scaled, df_copy2], axis = 1)\n",
    "df_scaled.head()"
   ]
  },
  {
   "cell_type": "code",
   "execution_count": null,
   "id": "4edf80c7",
   "metadata": {
    "ExecuteTime": {
     "start_time": "2024-07-25T01:37:09.893Z"
    }
   },
   "outputs": [],
   "source": [
    "# 모든 내용 출력 옵션: verbose\n",
    "# Non-Null Count 옵션: show_counts\n",
    "df_scaled.info(verbose = True, show_counts = True)"
   ]
  },
  {
   "cell_type": "code",
   "execution_count": null,
   "id": "efe20f3c",
   "metadata": {
    "ExecuteTime": {
     "start_time": "2024-07-25T01:37:09.895Z"
    }
   },
   "outputs": [],
   "source": [
    "df_scaled.to_csv('data/wine_total_data_0721_cleansed_Encoded_scaled_standad.csv', index = False)"
   ]
  },
  {
   "cell_type": "markdown",
   "id": "f2abce4b",
   "metadata": {},
   "source": [
    "## Modeling\n",
    "- SVM"
   ]
  },
  {
   "cell_type": "code",
   "execution_count": null,
   "id": "d992bac7",
   "metadata": {
    "ExecuteTime": {
     "end_time": "2024-07-25T01:33:05.176526Z",
     "start_time": "2024-07-25T01:33:04.585645Z"
    }
   },
   "outputs": [],
   "source": [
    "df_Model = df_scaled.copy()\n",
    "df_Model.describe()"
   ]
  },
  {
   "cell_type": "code",
   "execution_count": null,
   "id": "b36bbc3d",
   "metadata": {
    "ExecuteTime": {
     "end_time": "2024-07-25T01:33:16.962138Z",
     "start_time": "2024-07-25T01:33:16.945184Z"
    }
   },
   "outputs": [],
   "source": [
    "list(data.columns).index('RR1')"
   ]
  },
  {
   "cell_type": "code",
   "execution_count": null,
   "id": "46e02754",
   "metadata": {
    "ExecuteTime": {
     "end_time": "2024-07-25T01:33:28.586675Z",
     "start_time": "2024-07-25T01:33:27.163577Z"
    }
   },
   "outputs": [],
   "source": [
    "plt.figure(figsize = (15, 10))\n",
    "sns.boxplot(data.iloc[:, :29], orient = 'h')\n",
    "plt.show()"
   ]
  },
  {
   "cell_type": "code",
   "execution_count": null,
   "id": "60404640",
   "metadata": {
    "ExecuteTime": {
     "end_time": "2024-07-25T01:33:50.813380Z",
     "start_time": "2024-07-25T01:33:50.791019Z"
    }
   },
   "outputs": [],
   "source": [
    "from sklearn.model_selection import train_test_split\n",
    "from sklearn.model_selection import KFold\n",
    "from sklearn.model_selection import StratifiedKFold\n",
    "from sklearn.model_selection import cross_val_score\n",
    "\n",
    "from sklearn.metrics import accuracy_score,recall_score,precision_score,f1_score,roc_auc_score,roc_curve\n",
    "from sklearn.preprocessing import MinMaxScaler\n",
    "from sklearn.pipeline import Pipeline\n",
    "from sklearn.tree import DecisionTreeClassifier\n",
    "from sklearn.ensemble import RandomForestClassifier\n",
    "from sklearn.linear_model import LogisticRegression\n",
    "import lightgbm as lgb\n",
    "\n",
    "X = df_Model.drop('target', axis=1)\n",
    "y = df_Model['target']"
   ]
  },
  {
   "cell_type": "code",
   "execution_count": null,
   "id": "1112f12e",
   "metadata": {
    "ExecuteTime": {
     "end_time": "2024-07-25T01:33:56.531694Z",
     "start_time": "2024-07-25T01:33:56.514159Z"
    }
   },
   "outputs": [],
   "source": [
    "print(X.shape, y.shape)"
   ]
  },
  {
   "cell_type": "code",
   "execution_count": null,
   "id": "17351753",
   "metadata": {
    "ExecuteTime": {
     "end_time": "2024-07-25T01:34:09.469197Z",
     "start_time": "2024-07-25T01:34:09.415448Z"
    }
   },
   "outputs": [],
   "source": [
    "def Model_1_KFold(Model, Range):\n",
    "    \n",
    "    # 전체 지표 비교용\n",
    "    accTrain = []\n",
    "    accTest = []\n",
    "    recTrain = []\n",
    "    recTest = []\n",
    "    \n",
    "    indicatorMean = []\n",
    "    \n",
    "    # split만 한 경우\n",
    "    X_train, X_test, y_train, y_test = train_test_split(X,\n",
    "                                                        y,\n",
    "                                                        test_size = 0.2,\n",
    "                                                        random_state = 13,\n",
    "                                                        shuffle = True)\n",
    "    \n",
    "    print('\\n<<<train test split: 0.2>>>')\n",
    "    print('학습 데이터 크기: {}, 검증 데이터 크기: {}'.format(X_train.shape[0], X_test.shape[0]))\n",
    "    \n",
    "    Model.fit(X_train, y_train)\n",
    "    \n",
    "    # 결과 보기 위한 것\n",
    "#     y_pred_train = Model.predict_proba(X_train)\n",
    "#     y_pred = Model.predict_proba(X_test)\n",
    "#     val_pred = np.round(y_pred_train, decimals = 3)\n",
    "\n",
    "#     colNM = model.classes_\n",
    "#     lg.coef_\n",
    "#     result = pd.DataFrame(val_pred,\n",
    "#                           columns = colNM)\n",
    "#     result\n",
    "\n",
    "#     predicted_classes = np.argmax(y_pred, axis=1)\n",
    "\n",
    "# threshold = 0.5  # 기준값 설정\n",
    "# max_proba = np.max(y_pred, axis=1)\n",
    "# filtered_predictions = np.where(max_proba >= threshold, predicted_classes, -1)  # 기준치 이하인 경우 -1로 설정\n",
    "\n",
    "# 결과를 데이터프레임으로 변환\n",
    "#     result_2 = pd.DataFrame(predicted_classes.reshape(-1,1), columns=['Grape'])\n",
    "#     result_2.value_counts()\n",
    "\n",
    "\n",
    "    # 지표 보기 위한 것\n",
    "    y_pred_train = Model.predict(X_train)\n",
    "    y_pred = Model.predict(X_test)\n",
    "    \n",
    "    Acc_train = accuracy_score(y_train, y_pred_train)\n",
    "    Acc_test = accuracy_score(y_test, y_pred)\n",
    "    Recall_train = recall_score(y_train, y_pred_train, average = 'macro')\n",
    "    Recall_test = recall_score(y_test, y_pred, average = 'macro')\n",
    "    \n",
    "    print('Train Acc: {}'.format(Acc_train))\n",
    "    print('Test Acc:'.format(Acc_test))\n",
    "    \n",
    "    print('Train Recall:'.format(Recall_train))\n",
    "    print('Test Recall:'.format(Recall_test))\n",
    "    \n",
    "    accTrain.append(Acc_train)\n",
    "    accTest.append(Acc_test)    \n",
    "    recTrain.append(Recall_train)\n",
    "    recTest.append(Recall_test)\n",
    "\n",
    "    # KFold 부분\n",
    "    # 단순 split이 가장 성능이 좋다는 것을 확인하기 위한 장치\n",
    "    \n",
    "    for i in Range:\n",
    "\n",
    "        print('\\n<<<{}개로 나눈 것>>>'.format(i))\n",
    "\n",
    "        skfold = StratifiedKFold(n_splits = i)\n",
    "        \n",
    "        # 횟수 확인용\n",
    "        n_iter = 0\n",
    "        \n",
    "        cv_acc_train = []\n",
    "        cv_acc_test = []\n",
    "        cv_rec_train = []\n",
    "        cv_rec_test = []\n",
    "        \n",
    "        # StratifiedKFold의 split() 호출 시 반드시 레이블 데이터 세트도 추가 입력 필요\n",
    "        for train_index, test_index in skfold.split(X, y):\n",
    "            X_train, X_test = X.loc[train_index], X.loc[test_index]\n",
    "            y_train, y_test = y.loc[train_index], y.loc[test_index]\n",
    "    \n",
    "            Model.fit(X_train, y_train)\n",
    "        \n",
    "            # 지표 보기 위한 것\n",
    "            y_pred_train = Model.predict(X_train)\n",
    "            y_pred = Model.predict(X_test)\n",
    "\n",
    "            Acc_train = accuracy_score(y_train, y_pred_train)\n",
    "            Acc_test = accuracy_score(y_test, y_pred)\n",
    "            Recall_train = recall_score(y_train, y_pred_train, average = 'macro')\n",
    "            Recall_test = recall_score(y_test, y_pred, average = 'macro')\n",
    "            \n",
    "            cv_acc_train.append(Acc_train)\n",
    "            cv_acc_test.append(Acc_test)\n",
    "            cv_rec_train.append(Recall_train)\n",
    "            cv_rec_test.append(Recall_test)\n",
    "            \n",
    "            n_iter += 1 \n",
    "\n",
    "            print('\\n#{0} 교차 검증 Acc: {1}, 학습 데이터 크기: {2}, 검증 데이터 크기: {3}'\n",
    "                 .format(n_iter, Acc_test, len(train_index), len(test_index)))\n",
    "            print('#{} 검증 세트 인덱스:'.format(n_iter), test_index)\n",
    "\n",
    "        print('\\n<{}개의 Acc & Recall>'.format(i))\n",
    "        print('## 교차 검증별 Train Acc:', cv_acc_train)\n",
    "        print('## 교차 검증별 Test Acc:', cv_acc_test)\n",
    "        print('## 평균 검증 Train Acc:', np.mean(cv_acc_train), '평균 검증 Test Acc: ', np.mean(cv_acc_test))\n",
    "        print('\\n')\n",
    "        print('## 교차 검증별 Train Recall:', cv_rec_train)\n",
    "        print('## 교차 검증별 Test Recall:', cv_rec_test)\n",
    "        print('## 평균 검증 Train Recall:', np.mean(cv_rec_train), '평균 검증 Test Recall: ', np.mean(cv_rec_test))\n",
    "        \n",
    "        accTrain.append(np.mean(cv_acc_train))\n",
    "        accTest.append(np.mean(cv_acc_test))    \n",
    "        recTrain.append(np.mean(cv_rec_train))\n",
    "        recTest.append(np.mean(cv_rec_train))\n",
    "        \n",
    "    indicatorMean = {'accTrain': accTrain, 'accTest': accTest, 'recTrain': recTrain, 'recTest': recTest}\n",
    "    \n",
    "    return indicatorMean"
   ]
  },
  {
   "cell_type": "code",
   "execution_count": null,
   "id": "5ecc322b",
   "metadata": {
    "ExecuteTime": {
     "end_time": "2024-07-25T01:34:10.272160Z",
     "start_time": "2024-07-25T01:34:10.261341Z"
    }
   },
   "outputs": [],
   "source": [
    "def AccRecGraph(indicatorMean):\n",
    "    plt.figure(figsize = (15, 10))\n",
    "    palette = ['red', 'blue', 'green', 'purple']\n",
    "    idx = 0\n",
    "\n",
    "    for key, value in indicatorMean.items():\n",
    "        plt.plot(range(1, RangeNum),\n",
    "                 value,\n",
    "                 color = palette[idx],\n",
    "                 label = key)\n",
    "        plt.xlabel('split Num')\n",
    "        plt.ylabel(key)\n",
    "#         plt.title((key).upper() + ' by split number')\n",
    "\n",
    "        plt.legend()\n",
    "\n",
    "        idx += 1\n",
    "    plt.show()"
   ]
  },
  {
   "cell_type": "markdown",
   "id": "1e601c50",
   "metadata": {},
   "source": [
    "### Model별 Acc, Recall 확인"
   ]
  },
  {
   "cell_type": "code",
   "execution_count": null,
   "id": "22b3f250",
   "metadata": {
    "ExecuteTime": {
     "end_time": "2024-07-25T01:34:51.978615Z",
     "start_time": "2024-07-25T01:34:50.467335Z"
    }
   },
   "outputs": [],
   "source": [
    "RangeNum = 10\n",
    "indicatorMean = Model_1_KFold(LogisticRegression(solver = 'liblinear',random_state = 20), range(2, RangeNum))\n",
    "AccRecGraph(indicatorMean)"
   ]
  },
  {
   "cell_type": "code",
   "execution_count": null,
   "id": "871104fa",
   "metadata": {
    "ExecuteTime": {
     "end_time": "2024-07-25T01:34:51.978615Z",
     "start_time": "2024-07-25T01:34:51.978615Z"
    }
   },
   "outputs": [],
   "source": [
    "RangeNum = 10\n",
    "indicatorMean = Model_1_KFold(DecisionTreeClassifier(random_state = 13), range(2, RangeNum))\n",
    "AccRecGraph(indicatorMean)"
   ]
  },
  {
   "cell_type": "code",
   "execution_count": null,
   "id": "0d9045a2",
   "metadata": {},
   "outputs": [],
   "source": [
    "from lightgbm import LGBMClassifier\n",
    "from sklearn.model_selection import GridSearchCV\n",
    "\n",
    "lgbm = LGBMClassifier(n_estimators=1000,objective='multiclass',n_jobs = -1, random_state = 20,verbose = -1)\n",
    "stkfold = StratifiedKFold(n_splits=5)\n",
    "\n",
    "# 파라미터 그리드 정의\n",
    "param_grid = {\n",
    "    'boosting_type': ['dart'],\n",
    "    'colsample_bytree': [0.88],\n",
    "    'learning_rate': [0.028],\n",
    "    'min_child_samples': [10],\n",
    "    'num_leaves': [20],\n",
    "    'reg_alpha': [0.76],\n",
    "    'reg_lambda': [0.43],\n",
    "    # 'subsample_for_bin': [40000],\n",
    "    # 'subsample': [0.54],\n",
    "    'class_weight': ['balanced']\n",
    "}\n",
    "\n",
    "# GridSearchCV 객체 생성\n",
    "lgbm_gridsearch = GridSearchCV(estimator=lgbm,\n",
    "                           param_grid=param_grid,\n",
    "                           scoring='accuracy',  # 원하는 평가 지표로 변경할 수 있습니다\n",
    "                           cv=stkfold,                # 교차 검증 폴드 수\n",
    "                           n_jobs=-1                 # 모든 CPU 코어 사용             \n",
    "                           )         \n",
    "\n",
    "RangeNum = 10\n",
    "indicatorMean = Model_1_KFold(lgbm_gridsearch, range(2, RangeNum))\n",
    "AccRecGraph(indicatorMean)"
   ]
  },
  {
   "cell_type": "code",
   "execution_count": null,
   "id": "b3a9beea",
   "metadata": {},
   "outputs": [],
   "source": [
    "#DecisionTree + gridseach\n",
    "\n",
    "df_clf = DecisionTreeClassifier(random_state=20,max_depth=2)\n",
    "\n",
    "param_grid = {\"max_depth\" : [2,4,7,10,12,16,20,24]}\n",
    "\n",
    "indicatorMean = Model_1_KFold(tree_gridsearch, range(2, RangeNum))\n",
    "AccRecGraph(indicatorMean)"
   ]
  },
  {
   "cell_type": "markdown",
   "id": "9ea1f094",
   "metadata": {},
   "source": [
    "### SVM 수행부분"
   ]
  },
  {
   "cell_type": "code",
   "execution_count": null,
   "id": "c30a1ce7",
   "metadata": {
    "ExecuteTime": {
     "end_time": "2024-07-25T01:35:59.723268Z",
     "start_time": "2024-07-25T01:35:59.636499Z"
    }
   },
   "outputs": [],
   "source": [
    "from sklearn.svm import SVC \n",
    "\n",
    "svm_clf = SVC(kernel = 'rbf',random_state=20, probability=True)\n",
    "\n",
    "parameters = {'C': [0.001, 0.01, 0.1, 1, 10,25],\n",
    "             'gamma':[0.001, 0.01, 0.1, 1, 10,25]}\n",
    "\n",
    "gridsearch_svm = GridSearchCV(svm_clf, param_grid=parameters, cv=stkfold, return_train_score=True,scoring='accuracy',n_jobs=-1)\n",
    "gridsearch_svm.fit(X_train, y_train)\n",
    "\n",
    "cv_results = gridsearch_svm.cv_results_\n",
    "results_df_5 = pd.DataFrame(cv_results)   \n",
    "results_df_5.sort_values(by='rank_test_score', ascending=True, inplace=True)\n",
    "results_df_5[['rank_test_score','param_C','param_gamma','mean_train_score','mean_test_score']]"
   ]
  },
  {
   "cell_type": "code",
   "execution_count": null,
   "id": "e25f8a7b",
   "metadata": {},
   "outputs": [],
   "source": [
    "y_pred= gridsearch_svm.best_estimator_.predict(X_test)\n",
    "\n",
    "Acc = accuracy_score(y_test,y_pred)\n",
    "Recall = recall_score(y_test,y_pred,average='macro')\n",
    "F1 = f1_score(y_test,y_pred,average='macro')\n",
    "Precision = precision_score(y_test,y_pred,average='macro')\n",
    "\n",
    "print('Acc: {} Recall: {} F1: {} Precision: {}'.format(Acc, Recall, F1, Precision))"
   ]
  }
 ],
 "metadata": {
  "kernelspec": {
   "display_name": "ds_study",
   "language": "python",
   "name": "ds_study"
  },
  "language_info": {
   "codemirror_mode": {
    "name": "ipython",
    "version": 3
   },
   "file_extension": ".py",
   "mimetype": "text/x-python",
   "name": "python",
   "nbconvert_exporter": "python",
   "pygments_lexer": "ipython3",
   "version": "3.8.19"
  }
 },
 "nbformat": 4,
 "nbformat_minor": 5
}
